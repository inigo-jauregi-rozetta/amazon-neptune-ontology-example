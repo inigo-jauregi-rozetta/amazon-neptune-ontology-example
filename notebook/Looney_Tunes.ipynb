{
 "cells": [
  {
   "cell_type": "markdown",
   "id": "3bc214b1-0dbc-4d7c-b01b-416658b1f2a0",
   "metadata": {},
   "source": [
    "## Looney Tunes Database "
   ]
  },
  {
   "cell_type": "markdown",
   "id": "202e72b1-4d4f-4c2f-9ccc-f88cceed571c",
   "metadata": {},
   "source": [
    "### Data loading"
   ]
  },
  {
   "cell_type": "code",
   "execution_count": 126,
   "id": "44a6e6dc-16e7-4faf-a4fd-972d41aa5499",
   "metadata": {
    "tags": []
   },
   "outputs": [
    {
     "data": {
      "application/vnd.jupyter.widget-view+json": {
       "model_id": "",
       "version_major": 2,
       "version_minor": 0
      },
      "text/plain": [
       "HBox(children=(Label(value='Source:', layout=Layout(display='flex', justify_content='flex-end', width='16%')),…"
      ]
     },
     "metadata": {},
     "output_type": "display_data"
    },
    {
     "data": {
      "application/vnd.jupyter.widget-view+json": {
       "model_id": "",
       "version_major": 2,
       "version_minor": 0
      },
      "text/plain": [
       "HBox(children=(Label(value='Format:', layout=Layout(display='flex', justify_content='flex-end', width='16%')),…"
      ]
     },
     "metadata": {},
     "output_type": "display_data"
    },
    {
     "data": {
      "application/vnd.jupyter.widget-view+json": {
       "model_id": "",
       "version_major": 2,
       "version_minor": 0
      },
      "text/plain": [
       "HBox(children=(Label(value='Region:', layout=Layout(display='flex', justify_content='flex-end', width='16%')),…"
      ]
     },
     "metadata": {},
     "output_type": "display_data"
    },
    {
     "data": {
      "application/vnd.jupyter.widget-view+json": {
       "model_id": "",
       "version_major": 2,
       "version_minor": 0
      },
      "text/plain": [
       "HBox(children=(Label(value='Load ARN:', layout=Layout(display='flex', justify_content='flex-end', width='16%')…"
      ]
     },
     "metadata": {},
     "output_type": "display_data"
    },
    {
     "data": {
      "application/vnd.jupyter.widget-view+json": {
       "model_id": "",
       "version_major": 2,
       "version_minor": 0
      },
      "text/plain": [
       "HBox(children=(Label(value='Mode:', layout=Layout(display='flex', justify_content='flex-end', width='16%')), D…"
      ]
     },
     "metadata": {},
     "output_type": "display_data"
    },
    {
     "data": {
      "application/vnd.jupyter.widget-view+json": {
       "model_id": "",
       "version_major": 2,
       "version_minor": 0
      },
      "text/plain": [
       "HBox(children=(Label(value='Fail on Error:', layout=Layout(display='flex', justify_content='flex-end', width='…"
      ]
     },
     "metadata": {},
     "output_type": "display_data"
    },
    {
     "data": {
      "application/vnd.jupyter.widget-view+json": {
       "model_id": "",
       "version_major": 2,
       "version_minor": 0
      },
      "text/plain": [
       "HBox(children=(Label(value='Parallelism:', layout=Layout(display='flex', justify_content='flex-end', width='16…"
      ]
     },
     "metadata": {},
     "output_type": "display_data"
    },
    {
     "data": {
      "application/vnd.jupyter.widget-view+json": {
       "model_id": "",
       "version_major": 2,
       "version_minor": 0
      },
      "text/plain": [
       "HBox(children=(Label(value='Update Single Cardinality:', layout=Layout(display='flex', justify_content='flex-e…"
      ]
     },
     "metadata": {},
     "output_type": "display_data"
    },
    {
     "data": {
      "application/vnd.jupyter.widget-view+json": {
       "model_id": "",
       "version_major": 2,
       "version_minor": 0
      },
      "text/plain": [
       "HBox(children=(Label(value='Queue Request:', layout=Layout(display='flex', justify_content='flex-end', width='…"
      ]
     },
     "metadata": {},
     "output_type": "display_data"
    },
    {
     "data": {
      "application/vnd.jupyter.widget-view+json": {
       "model_id": "",
       "version_major": 2,
       "version_minor": 0
      },
      "text/plain": [
       "HBox(children=(Label(value='Dependencies:', layout=Layout(display='flex', justify_content='flex-end', width='1…"
      ]
     },
     "metadata": {},
     "output_type": "display_data"
    },
    {
     "data": {
      "application/vnd.jupyter.widget-view+json": {
       "model_id": "",
       "version_major": 2,
       "version_minor": 0
      },
      "text/plain": [
       "HBox(children=(Label(value='Poll Load Status:', layout=Layout(display='flex', justify_content='flex-end', widt…"
      ]
     },
     "metadata": {},
     "output_type": "display_data"
    },
    {
     "data": {
      "application/vnd.jupyter.widget-view+json": {
       "model_id": "",
       "version_major": 2,
       "version_minor": 0
      },
      "text/plain": [
       "HBox(children=(Label(value='User Provided Edge Ids:', layout=Layout(display='none', justify_content='flex-end'…"
      ]
     },
     "metadata": {},
     "output_type": "display_data"
    },
    {
     "data": {
      "application/vnd.jupyter.widget-view+json": {
       "model_id": "",
       "version_major": 2,
       "version_minor": 0
      },
      "text/plain": [
       "HBox(children=(Label(value='Allow Empty Strings:', layout=Layout(display='none', justify_content='flex-end', w…"
      ]
     },
     "metadata": {},
     "output_type": "display_data"
    },
    {
     "data": {
      "application/vnd.jupyter.widget-view+json": {
       "model_id": "",
       "version_major": 2,
       "version_minor": 0
      },
      "text/plain": [
       "HBox(children=(Label(value='Named Graph URI:', layout=Layout(display='flex', justify_content='flex-end', width…"
      ]
     },
     "metadata": {},
     "output_type": "display_data"
    },
    {
     "data": {
      "application/vnd.jupyter.widget-view+json": {
       "model_id": "",
       "version_major": 2,
       "version_minor": 0
      },
      "text/plain": [
       "HBox(children=(Label(value='Base URI:', layout=Layout(display='flex', justify_content='flex-end', width='16%')…"
      ]
     },
     "metadata": {},
     "output_type": "display_data"
    },
    {
     "data": {
      "application/vnd.jupyter.widget-view+json": {
       "model_id": "",
       "version_major": 2,
       "version_minor": 0
      },
      "text/plain": [
       "Button(description='Submit', style=ButtonStyle())"
      ]
     },
     "metadata": {},
     "output_type": "display_data"
    },
    {
     "data": {
      "application/vnd.jupyter.widget-view+json": {
       "model_id": "a8a4dee291c9459cbd603b78d3edeffd",
       "version_major": 2,
       "version_minor": 0
      },
      "text/plain": [
       "Output()"
      ]
     },
     "metadata": {},
     "output_type": "display_data"
    }
   ],
   "source": [
    "%load -s s3://neptune-demo-s3workingbucket-12zo6uwzrgc4k/looney_tunes.ttl -f turtle --named-graph-uri=http://looneytunes-graph.com"
   ]
  },
  {
   "cell_type": "markdown",
   "id": "22207ede-942a-48fb-9aab-226f3b8899e3",
   "metadata": {},
   "source": [
    "### First query"
   ]
  },
  {
   "cell_type": "code",
   "execution_count": 127,
   "id": "2782a00a-0d0a-4ed4-b54c-5bbd6bf038fb",
   "metadata": {
    "tags": []
   },
   "outputs": [
    {
     "data": {
      "application/vnd.jupyter.widget-view+json": {
       "model_id": "a9f56efffd7e47998ea33ccb1ddd044e",
       "version_major": 2,
       "version_minor": 0
      },
      "text/plain": [
       "Tab(children=(Output(layout=Layout(max_height='600px', max_width='940px', overflow='scroll')), Force(network=<…"
      ]
     },
     "metadata": {},
     "output_type": "display_data"
    }
   ],
   "source": [
    "%%sparql\n",
    "\n",
    "# Most basic command\n",
    "# Bring anything that meets hte pattern subject-predicate-object (From the Looney Tunes graph)\n",
    "SELECT ?s ?p ?o\n",
    "FROM <http://looneytunes-graph.com>\n",
    "WHERE {\n",
    "    ?s ?p ?o\n",
    "} LIMIT 100"
   ]
  },
  {
   "cell_type": "markdown",
   "id": "0f6d5089-af37-454f-a2ef-f5b07522c88d",
   "metadata": {},
   "source": [
    "### One-hop away"
   ]
  },
  {
   "cell_type": "code",
   "execution_count": 19,
   "id": "570a7805-0809-4ce0-ab8b-2b04fc3e10d2",
   "metadata": {
    "tags": []
   },
   "outputs": [
    {
     "data": {
      "application/vnd.jupyter.widget-view+json": {
       "model_id": "4c6d5a58805e4b52b575007da8f6db8a",
       "version_major": 2,
       "version_minor": 0
      },
      "text/plain": [
       "Tab(children=(Output(layout=Layout(max_height='600px', max_width='940px', overflow='scroll')), Output(layout=L…"
      ]
     },
     "metadata": {},
     "output_type": "display_data"
    }
   ],
   "source": [
    "%%sparql\n",
    "\n",
    "# What is Bugs Bunny's name?\n",
    "PREFIX : <http://looneytunes-graph.com/>\n",
    "\n",
    "SELECT ?n\n",
    "FROM <http://looneytunes-graph.com>\n",
    "WHERE {\n",
    "    :Bugs_Bunny :name ?n\n",
    "}"
   ]
  },
  {
   "cell_type": "code",
   "execution_count": 20,
   "id": "33b72eef-a3b8-4378-aa52-e692aa0c9ec6",
   "metadata": {
    "tags": []
   },
   "outputs": [
    {
     "data": {
      "application/vnd.jupyter.widget-view+json": {
       "model_id": "3cdb828ea65e4b06aacb6ff37e97b494",
       "version_major": 2,
       "version_minor": 0
      },
      "text/plain": [
       "Tab(children=(Output(layout=Layout(max_height='600px', max_width='940px', overflow='scroll')), Output(layout=L…"
      ]
     },
     "metadata": {},
     "output_type": "display_data"
    }
   ],
   "source": [
    "%%sparql\n",
    "\n",
    "# Who is Bugs Bunny's creator?\n",
    "PREFIX : <http://looneytunes-graph.com/>\n",
    "\n",
    "SELECT ?c\n",
    "FROM <http://looneytunes-graph.com>\n",
    "WHERE {\n",
    "    :Bugs_Bunny :created_by ?c\n",
    "}"
   ]
  },
  {
   "cell_type": "code",
   "execution_count": 23,
   "id": "a9963da0-666c-4325-8081-ca6197982391",
   "metadata": {
    "tags": []
   },
   "outputs": [
    {
     "data": {
      "application/vnd.jupyter.widget-view+json": {
       "model_id": "53a9a508ab48498482ece967ce40b40b",
       "version_major": 2,
       "version_minor": 0
      },
      "text/plain": [
       "Tab(children=(Output(layout=Layout(max_height='600px', max_width='940px', overflow='scroll')), Output(layout=L…"
      ]
     },
     "metadata": {},
     "output_type": "display_data"
    }
   ],
   "source": [
    "%%sparql\n",
    "\n",
    "# What are Bugs Bunny;s Personality Traits?\n",
    "PREFIX : <http://looneytunes-graph.com/>\n",
    "\n",
    "SELECT ?t\n",
    "FROM <http://looneytunes-graph.com>\n",
    "WHERE {\n",
    "    :Sylvester :personality_trait ?t\n",
    "}"
   ]
  },
  {
   "cell_type": "markdown",
   "id": "31b8e6d0-d390-4f6c-b54a-f9846cf7c144",
   "metadata": {},
   "source": [
    "### Two-hop away query pattern"
   ]
  },
  {
   "cell_type": "code",
   "execution_count": 24,
   "id": "f2f84374-2c10-4728-9764-f759e3ab7623",
   "metadata": {
    "tags": []
   },
   "outputs": [
    {
     "data": {
      "application/vnd.jupyter.widget-view+json": {
       "model_id": "d20d8f0ee99b4864b737965824dc899f",
       "version_major": 2,
       "version_minor": 0
      },
      "text/plain": [
       "Tab(children=(Output(layout=Layout(max_height='600px', max_width='940px', overflow='scroll')), Output(layout=L…"
      ]
     },
     "metadata": {},
     "output_type": "display_data"
    }
   ],
   "source": [
    "%%sparql\n",
    "\n",
    "# What is/are the name(s) of the creator(s) of Bugs Bunny?\n",
    "PREFIX : <http://looneytunes-graph.com/>\n",
    "\n",
    "SELECT ?n\n",
    "FROM <http://looneytunes-graph.com>\n",
    "WHERE {\n",
    "    :Bugs_Bunny :created_by ?p .   # the '.' means 'AND'\n",
    "    ?p :name ?n\n",
    "}"
   ]
  },
  {
   "cell_type": "code",
   "execution_count": 25,
   "id": "d2e0353b-4392-4704-b480-c4f7d6168a23",
   "metadata": {
    "tags": []
   },
   "outputs": [
    {
     "data": {
      "application/vnd.jupyter.widget-view+json": {
       "model_id": "3b6e29f766c24438b46558eb8792e14d",
       "version_major": 2,
       "version_minor": 0
      },
      "text/plain": [
       "Tab(children=(Output(layout=Layout(max_height='600px', max_width='940px', overflow='scroll')), Output(layout=L…"
      ]
     },
     "metadata": {},
     "output_type": "display_data"
    }
   ],
   "source": [
    "%%sparql\n",
    "\n",
    "# What was the release date when Bugs Bunny made his debut appearance?\n",
    "PREFIX : <http://looneytunes-graph.com/>\n",
    "\n",
    "SELECT ?d\n",
    "FROM <http://looneytunes-graph.com>\n",
    "WHERE {\n",
    "    :Bugs_Bunny :made_debut_appearance_in ?n .   # the '.' means 'AND'\n",
    "    ?n :release_date ?d\n",
    "}"
   ]
  },
  {
   "cell_type": "markdown",
   "id": "38505f6d-32e5-4a76-b4ae-c4a733df9462",
   "metadata": {},
   "source": [
    "### Writing Lean queries"
   ]
  },
  {
   "cell_type": "code",
   "execution_count": 29,
   "id": "78451853-0bde-475b-8374-92a4d8d01862",
   "metadata": {
    "tags": []
   },
   "outputs": [
    {
     "data": {
      "application/vnd.jupyter.widget-view+json": {
       "model_id": "81239a53edbc498b8e49b87f1889b7e1",
       "version_major": 2,
       "version_minor": 0
      },
      "text/plain": [
       "Tab(children=(Output(layout=Layout(max_height='600px', max_width='940px', overflow='scroll')), Output(layout=L…"
      ]
     },
     "metadata": {},
     "output_type": "display_data"
    }
   ],
   "source": [
    "%%sparql\n",
    "\n",
    "# What was the release date when Bugs Bunny made his debut appearance?\n",
    "PREFIX : <http://looneytunes-graph.com/>\n",
    "\n",
    "SELECT ?n ?d\n",
    "FROM <http://looneytunes-graph.com>\n",
    "WHERE {\n",
    "    ?c a :Looney_Tunes_Character ;    # Semicolomn allows you to add triplet patterns with the same subject,  predicate 'a' is widely recognised and prefix not needed\n",
    "     :name ?n ;\n",
    "     :made_debut_appearance_in ?m .\n",
    "    ?m :release_date ?d\n",
    "}"
   ]
  },
  {
   "cell_type": "markdown",
   "id": "bed88e7f-9103-44e6-81ba-5d368c4037a1",
   "metadata": {},
   "source": [
    "### Counting things in the graph\n",
    "\n",
    "In Sparql counting is an aggregation function"
   ]
  },
  {
   "cell_type": "code",
   "execution_count": 31,
   "id": "d4dff8f8-e138-4875-8e04-b3fbbfbc1e0c",
   "metadata": {
    "tags": []
   },
   "outputs": [
    {
     "data": {
      "application/vnd.jupyter.widget-view+json": {
       "model_id": "8f72835935b34d93925cba5a2aab3425",
       "version_major": 2,
       "version_minor": 0
      },
      "text/plain": [
       "Tab(children=(Output(layout=Layout(max_height='600px', max_width='940px', overflow='scroll')), Output(layout=L…"
      ]
     },
     "metadata": {},
     "output_type": "display_data"
    }
   ],
   "source": [
    "%%sparql\n",
    "\n",
    "# How many characters were created by Tex Avery?\n",
    "PREFIX : <http://looneytunes-graph.com/>\n",
    "\n",
    "SELECT (COUNT (?c) AS ?cCount)\n",
    "FROM <http://looneytunes-graph.com>\n",
    "WHERE {\n",
    "    ?c :created_by :Tex_Avery\n",
    "}"
   ]
  },
  {
   "cell_type": "markdown",
   "id": "57f3a35a-9d64-4357-b116-869b7662e621",
   "metadata": {},
   "source": [
    "### Removing Duplicates from results"
   ]
  },
  {
   "cell_type": "code",
   "execution_count": 33,
   "id": "0830d885-5c5f-4705-8964-5bbfc361903f",
   "metadata": {
    "tags": []
   },
   "outputs": [
    {
     "data": {
      "application/vnd.jupyter.widget-view+json": {
       "model_id": "db86d1ec8d144e8f9eb1f3856a80a442",
       "version_major": 2,
       "version_minor": 0
      },
      "text/plain": [
       "Tab(children=(Output(layout=Layout(max_height='600px', max_width='940px', overflow='scroll')), Output(layout=L…"
      ]
     },
     "metadata": {},
     "output_type": "display_data"
    }
   ],
   "source": [
    "%%sparql\n",
    "\n",
    "# How many types of movies have our Looney Tunes characters made debut appearances in?\n",
    "PREFIX : <http://looneytunes-graph.com/>\n",
    "\n",
    "SELECT (COUNT (DISTINCT ?mt) AS ?mtC)\n",
    "FROM <http://looneytunes-graph.com>\n",
    "WHERE {\n",
    "    ?c :made_debut_appearance_in ?m .\n",
    "    ?m a ?mt\n",
    "}"
   ]
  },
  {
   "cell_type": "markdown",
   "id": "789e5c8a-9289-4217-9bfa-6b1bb1c9c0f5",
   "metadata": {},
   "source": [
    "### Checking the existance or non-existance of certain patterns"
   ]
  },
  {
   "cell_type": "code",
   "execution_count": 37,
   "id": "de2cc132-f625-464d-9a6c-705c7d1d1ddd",
   "metadata": {
    "tags": []
   },
   "outputs": [
    {
     "data": {
      "application/vnd.jupyter.widget-view+json": {
       "model_id": "683c14c9bff040ecaf4df7ef91654fe5",
       "version_major": 2,
       "version_minor": 0
      },
      "text/plain": [
       "Tab(children=(Output(layout=Layout(max_height='600px', max_width='940px', overflow='scroll')), Output(layout=L…"
      ]
     },
     "metadata": {},
     "output_type": "display_data"
    }
   ],
   "source": [
    "%%sparql\n",
    "\n",
    "# Find Looney Tunes characters that have a catchphrase\n",
    "PREFIX : <http://looneytunes-graph.com/>\n",
    "\n",
    "SELECT ?c\n",
    "FROM <http://looneytunes-graph.com>\n",
    "WHERE {\n",
    "    ?c a :Looney_Tunes_Character .\n",
    "    \n",
    "    FILTER NOT EXISTS {\n",
    "        ?c :known_for_catchphrase ?p\n",
    "    }\n",
    "}"
   ]
  },
  {
   "cell_type": "code",
   "execution_count": 41,
   "id": "4ae24874-f232-4ba5-abf6-c8833651d7aa",
   "metadata": {
    "tags": []
   },
   "outputs": [
    {
     "data": {
      "application/vnd.jupyter.widget-view+json": {
       "model_id": "187549ca7a774d138a1e736cd1dc385f",
       "version_major": 2,
       "version_minor": 0
      },
      "text/plain": [
       "Tab(children=(Output(layout=Layout(max_height='600px', max_width='940px', overflow='scroll')), Output(layout=L…"
      ]
     },
     "metadata": {},
     "output_type": "display_data"
    }
   ],
   "source": [
    "%%sparql\n",
    "\n",
    "# Who are the characters who were co-created?\n",
    "PREFIX : <http://looneytunes-graph.com/>\n",
    "\n",
    "SELECT DISTINCT ?c\n",
    "FROM <http://looneytunes-graph.com>\n",
    "WHERE {\n",
    "    ?c :created_by ?p1 , ?p2 .\n",
    "    \n",
    "    FILTER(?p1 != ?p2) \n",
    "}"
   ]
  },
  {
   "cell_type": "markdown",
   "id": "8e1e6aa0-2f1e-4e18-9648-04d3784bd4a8",
   "metadata": {},
   "source": [
    "### MIN and MAX functions"
   ]
  },
  {
   "cell_type": "code",
   "execution_count": 42,
   "id": "8a84a491-b95e-495e-8e89-3512e6c0e683",
   "metadata": {
    "tags": []
   },
   "outputs": [
    {
     "data": {
      "application/vnd.jupyter.widget-view+json": {
       "model_id": "2d1b2abf5f3142dc819b667a377c05b2",
       "version_major": 2,
       "version_minor": 0
      },
      "text/plain": [
       "Tab(children=(Output(layout=Layout(max_height='600px', max_width='940px', overflow='scroll')), Output(layout=L…"
      ]
     },
     "metadata": {},
     "output_type": "display_data"
    }
   ],
   "source": [
    "%%sparql\n",
    "\n",
    "# What are the earliest and latest dates for movies?\n",
    "PREFIX : <http://looneytunes-graph.com/>\n",
    "\n",
    "SELECT (MIN(?date) AS ?earliest) (MAX(?date) AS ?latest)\n",
    "FROM <http://looneytunes-graph.com>\n",
    "WHERE {\n",
    "    ?m a :Short ;\n",
    "        :release_date ?date\n",
    "}"
   ]
  },
  {
   "cell_type": "markdown",
   "id": "ea9079b1-a7c6-4051-81b3-50560f4bce33",
   "metadata": {},
   "source": [
    "### Bind variables (simple mathematical operation)"
   ]
  },
  {
   "cell_type": "code",
   "execution_count": 44,
   "id": "2dd82580-0051-4e90-84ee-6fa7c9c8ac1f",
   "metadata": {
    "tags": []
   },
   "outputs": [
    {
     "data": {
      "application/vnd.jupyter.widget-view+json": {
       "model_id": "686a2dc706c4479a99e1028676f48992",
       "version_major": 2,
       "version_minor": 0
      },
      "text/plain": [
       "Tab(children=(Output(layout=Layout(max_height='600px', max_width='940px', overflow='scroll')), Output(layout=L…"
      ]
     },
     "metadata": {},
     "output_type": "display_data"
    }
   ],
   "source": [
    "%%sparql\n",
    "\n",
    "# How old was Tex Avery when he died?\n",
    "PREFIX : <http://looneytunes-graph.com/>\n",
    "\n",
    "SELECT ?age\n",
    "FROM <http://looneytunes-graph.com>\n",
    "WHERE {\n",
    "    :Tex_Avery :born_on ?b ;\n",
    "               :died_on ?d .\n",
    "    \n",
    "    BIND (year(?b) AS ?bYear)\n",
    "    BIND (year(?d) AS ?dYear)\n",
    "    BIND ((?dYear - ?bYear) AS ?age)\n",
    "}"
   ]
  },
  {
   "cell_type": "code",
   "execution_count": 46,
   "id": "f3a9ba74-e8ae-4db6-a26b-006e3a703fbf",
   "metadata": {
    "tags": []
   },
   "outputs": [
    {
     "data": {
      "application/vnd.jupyter.widget-view+json": {
       "model_id": "22601a5f2ccf4b9290f7c852a9e1ca8d",
       "version_major": 2,
       "version_minor": 0
      },
      "text/plain": [
       "Tab(children=(Output(layout=Layout(max_height='600px', max_width='940px', overflow='scroll')), Output(layout=L…"
      ]
     },
     "metadata": {},
     "output_type": "display_data"
    }
   ],
   "source": [
    "%%sparql\n",
    "\n",
    "# Lifespan of each Looney Tunes character creator\n",
    "PREFIX : <http://looneytunes-graph.com/>\n",
    "\n",
    "SELECT ?c ?age\n",
    "FROM <http://looneytunes-graph.com>\n",
    "WHERE {\n",
    "    ?c :born_on ?b ;\n",
    "               :died_on ?d .\n",
    "    \n",
    "    BIND (year(?b) AS ?bYear)\n",
    "    BIND (year(?d) AS ?dYear)\n",
    "    BIND ((?dYear - ?bYear) AS ?age)\n",
    "}"
   ]
  },
  {
   "cell_type": "code",
   "execution_count": 48,
   "id": "550e89d1-da34-4c10-b707-6814d8c5aa91",
   "metadata": {
    "tags": []
   },
   "outputs": [
    {
     "data": {
      "application/vnd.jupyter.widget-view+json": {
       "model_id": "c4872f461f4442a99615395ae0bca5e6",
       "version_major": 2,
       "version_minor": 0
      },
      "text/plain": [
       "Tab(children=(Output(layout=Layout(max_height='600px', max_width='940px', overflow='scroll')), Output(layout=L…"
      ]
     },
     "metadata": {},
     "output_type": "display_data"
    }
   ],
   "source": [
    "%%sparql\n",
    "\n",
    "# How was the longest living looney tunes creator?\n",
    "PREFIX : <http://looneytunes-graph.com/>\n",
    "\n",
    "SELECT ?c ?age\n",
    "FROM <http://looneytunes-graph.com>\n",
    "WHERE {\n",
    "    ?c :born_on ?b ;\n",
    "               :died_on ?d .\n",
    "    \n",
    "    BIND (year(?b) AS ?bYear)\n",
    "    BIND (year(?d) AS ?dYear)\n",
    "    BIND ((?dYear - ?bYear) AS ?age)\n",
    "}\n",
    "ORDER BY DESC (?age)\n",
    "LIMIT 1"
   ]
  },
  {
   "cell_type": "markdown",
   "id": "493893cf-8aa7-49c7-9e65-eb6ee2fdfa23",
   "metadata": {},
   "source": [
    "### Computing average values"
   ]
  },
  {
   "cell_type": "code",
   "execution_count": 51,
   "id": "1d7bd953-0e44-44d4-bdb7-81b433b2bcb2",
   "metadata": {
    "tags": []
   },
   "outputs": [
    {
     "data": {
      "application/vnd.jupyter.widget-view+json": {
       "model_id": "40cb39a0e4924267abdcc25689c92c55",
       "version_major": 2,
       "version_minor": 0
      },
      "text/plain": [
       "Tab(children=(Output(layout=Layout(max_height='600px', max_width='940px', overflow='scroll')), Output(layout=L…"
      ]
     },
     "metadata": {},
     "output_type": "display_data"
    }
   ],
   "source": [
    "%%sparql\n",
    "\n",
    "# What was the average death age of all Looney Tunes character creators combined?\n",
    "PREFIX : <http://looneytunes-graph.com/>\n",
    "\n",
    "SELECT (AVG(?age) AS ?avgAge)\n",
    "FROM <http://looneytunes-graph.com>\n",
    "WHERE {\n",
    "    ?c :born_on ?b ;\n",
    "               :died_on ?d .\n",
    "    \n",
    "    BIND (year(?b) AS ?bYear)\n",
    "    BIND (year(?d) AS ?dYear)\n",
    "    BIND ((?dYear - ?bYear) AS ?age)\n",
    "}\n",
    "ORDER BY DESC (?age)\n",
    "LIMIT 1"
   ]
  },
  {
   "cell_type": "markdown",
   "id": "b5e5073a-b5c3-4e8c-ac6e-4ab64a90a02d",
   "metadata": {},
   "source": [
    "### Running tests, More advanced use of BIND, COALESCE and IF"
   ]
  },
  {
   "cell_type": "code",
   "execution_count": 56,
   "id": "148fb142-8339-499c-9029-9e4a3e839784",
   "metadata": {
    "tags": []
   },
   "outputs": [
    {
     "data": {
      "application/vnd.jupyter.widget-view+json": {
       "model_id": "1b1e698f3cc341f3b722c524fbb661fa",
       "version_major": 2,
       "version_minor": 0
      },
      "text/plain": [
       "Tab(children=(Output(layout=Layout(max_height='600px', max_width='940px', overflow='scroll')), Output(layout=L…"
      ]
     },
     "metadata": {},
     "output_type": "display_data"
    }
   ],
   "source": [
    "%%sparql\n",
    "\n",
    "# What if we wanted to say something like:\n",
    "# If release date between 1946 and 1950 => post-war period release\n",
    "# If release date between 1939 and 1945 => WW2 release\n",
    "# If release date between 1918 and 1938 => Interwar period\n",
    "PREFIX : <http://looneytunes-graph.com/>\n",
    "\n",
    "SELECT ?n ?result\n",
    "FROM <http://looneytunes-graph.com>\n",
    "WHERE {\n",
    "    ?c :made_debut_appearance_in ?m ;\n",
    "       :name ?n .\n",
    "    ?m :release_date ?d .\n",
    "    \n",
    "    BIND (year(?d) AS ?dYear) .\n",
    "    \n",
    "    BIND (\n",
    "        IF(?dYear >= 1946 && ?dYear <=1950, \"Released during post-war era\",\n",
    "           IF(?dYear >= 1939 && ?dYear <=1945, \"Released during WW2\",\n",
    "              IF(?dYear >= 1918 && ?dYear <=1938, \"Released during interwar period\", \"Other era\"\n",
    "                )\n",
    "             )\n",
    "          ) AS ?result\n",
    "    )\n",
    "}\n",
    "ORDER BY ASC(?n)"
   ]
  },
  {
   "cell_type": "code",
   "execution_count": 57,
   "id": "88441a0c-6449-4d57-8598-6c0015a714bf",
   "metadata": {
    "tags": []
   },
   "outputs": [
    {
     "data": {
      "application/vnd.jupyter.widget-view+json": {
       "model_id": "4b7749b6ae4042ee881ffa74594808bf",
       "version_major": 2,
       "version_minor": 0
      },
      "text/plain": [
       "Tab(children=(Output(layout=Layout(max_height='600px', max_width='940px', overflow='scroll')), Output(layout=L…"
      ]
     },
     "metadata": {},
     "output_type": "display_data"
    }
   ],
   "source": [
    "%%sparql\n",
    "\n",
    "# What if we wanted to say something like:\n",
    "# If release date between 1946 and 1950 => post-war period release\n",
    "# If release date between 1939 and 1945 => WW2 release\n",
    "# If release date between 1918 and 1938 => Interwar period\n",
    "PREFIX : <http://looneytunes-graph.com/>\n",
    "\n",
    "SELECT ?n ?result\n",
    "FROM <http://looneytunes-graph.com>\n",
    "WHERE {\n",
    "    ?c :made_debut_appearance_in ?m ;\n",
    "       :name ?n .\n",
    "    ?m :release_date ?d .\n",
    "    \n",
    "    BIND (year(?d) AS ?dYear) .\n",
    "    \n",
    "    BIND (\n",
    "    COALESCE(\n",
    "        IF(?dYear >= 1946 && ?dYear <=1950, \"Released during post-war era\", 1/0),\n",
    "        IF(?dYear >= 1939 && ?dYear <=1945, \"Released during WW2\", 1/0),\n",
    "        IF(?dYear >= 1918 && ?dYear <=1938, \"Released during interwar period\", 1/0), \n",
    "        \"Other era\"\n",
    "        ) AS ?result\n",
    "    )\n",
    "}\n",
    "ORDER BY ASC(?n)"
   ]
  },
  {
   "cell_type": "markdown",
   "id": "f2c9ee85-afd6-46df-b248-d762ece201dd",
   "metadata": {},
   "source": [
    "### Working with OPTIONAL matches"
   ]
  },
  {
   "cell_type": "code",
   "execution_count": 59,
   "id": "294ec6bf-a086-4620-af28-8acffdc851c3",
   "metadata": {
    "tags": []
   },
   "outputs": [
    {
     "data": {
      "application/vnd.jupyter.widget-view+json": {
       "model_id": "beda2a067389463882f0b9ba1566ca4e",
       "version_major": 2,
       "version_minor": 0
      },
      "text/plain": [
       "Tab(children=(Output(layout=Layout(max_height='600px', max_width='940px', overflow='scroll')), Output(layout=L…"
      ]
     },
     "metadata": {},
     "output_type": "display_data"
    }
   ],
   "source": [
    "%%sparql\n",
    "\n",
    "# What are the catchphrases of all the different characters (include characters that may bnot have catchphrases)?\n",
    "PREFIX : <http://looneytunes-graph.com/>\n",
    "\n",
    "SELECT ?c ?cp\n",
    "FROM <http://looneytunes-graph.com>\n",
    "WHERE {\n",
    "    ?c a :Looney_Tunes_Character .\n",
    "    \n",
    "    OPTIONAL {\n",
    "        ?c :known_for_catchphrase ?cp\n",
    "    }\n",
    "}"
   ]
  },
  {
   "cell_type": "markdown",
   "id": "ae0ad2b7-408e-4f08-bc32-fddf5508ba41",
   "metadata": {},
   "source": [
    "### The UNION clause"
   ]
  },
  {
   "cell_type": "code",
   "execution_count": 61,
   "id": "24fbcae9-d9db-4916-b7a4-4d13679efa11",
   "metadata": {
    "tags": []
   },
   "outputs": [
    {
     "data": {
      "application/vnd.jupyter.widget-view+json": {
       "model_id": "694e29b316ee4b3ca8c7c40d5f7f08bb",
       "version_major": 2,
       "version_minor": 0
      },
      "text/plain": [
       "Tab(children=(Output(layout=Layout(max_height='600px', max_width='940px', overflow='scroll')), Output(layout=L…"
      ]
     },
     "metadata": {},
     "output_type": "display_data"
    }
   ],
   "source": [
    "%%sparql\n",
    "\n",
    "# What is the full list of all the names of things in our dataset (i.e., names of Looney Tunes characters and their creators)\n",
    "PREFIX : <http://looneytunes-graph.com/>\n",
    "\n",
    "SELECT ?n\n",
    "FROM <http://looneytunes-graph.com>\n",
    "WHERE {\n",
    "    {\n",
    "      ?c a :Looney_Tunes_Character ;\n",
    "           :name ?n \n",
    "    }\n",
    "    UNION\n",
    "    {\n",
    "      ?c a :Person ;\n",
    "           :name ?n \n",
    "    }\n",
    "}\n",
    "ORDER BY ASC(?n)"
   ]
  },
  {
   "cell_type": "markdown",
   "id": "b1a14b1e-122a-4aed-ac86-26ab49a6fe11",
   "metadata": {},
   "source": [
    "### Excluding results with the MINUS clause"
   ]
  },
  {
   "cell_type": "code",
   "execution_count": 85,
   "id": "7dfaad2d-cc49-49bd-b0cc-6f720fa831a9",
   "metadata": {
    "tags": []
   },
   "outputs": [
    {
     "data": {
      "application/vnd.jupyter.widget-view+json": {
       "model_id": "8b97c44e318149d59d447e08dfaffaf9",
       "version_major": 2,
       "version_minor": 0
      },
      "text/plain": [
       "Tab(children=(Output(layout=Layout(max_height='600px', max_width='940px', overflow='scroll')), Output(layout=L…"
      ]
     },
     "metadata": {},
     "output_type": "display_data"
    }
   ],
   "source": [
    "%%sparql\n",
    "\n",
    "# Remove Tasmanian Devil from the list of names\n",
    "PREFIX : <http://looneytunes-graph.com/>\n",
    "\n",
    "SELECT ?n\n",
    "FROM <http://looneytunes-graph.com>\n",
    "WHERE {\n",
    "    {\n",
    "      ?c a :Looney_Tunes_Character ;\n",
    "           :name ?n \n",
    "    }\n",
    "    MINUS\n",
    "    {\n",
    "      ?c :name \"Tasmanian Devil\"\n",
    "    }\n",
    "}\n",
    "ORDER BY ASC(?n)"
   ]
  },
  {
   "cell_type": "markdown",
   "id": "e957632b-1302-4e27-b4e5-38b29486849a",
   "metadata": {},
   "source": [
    "### GROUPING"
   ]
  },
  {
   "cell_type": "code",
   "execution_count": 65,
   "id": "dee031ff-8e55-4685-8423-5c34db3d5a7f",
   "metadata": {
    "tags": []
   },
   "outputs": [
    {
     "data": {
      "application/vnd.jupyter.widget-view+json": {
       "model_id": "5f37d74ab4ec4c77b493cce9b8eb274a",
       "version_major": 2,
       "version_minor": 0
      },
      "text/plain": [
       "Tab(children=(Output(layout=Layout(max_height='600px', max_width='940px', overflow='scroll')), Output(layout=L…"
      ]
     },
     "metadata": {},
     "output_type": "display_data"
    }
   ],
   "source": [
    "%%sparql\n",
    "\n",
    "# What is the count of recorded personality traits for each of our Looney Tunes characters?\n",
    "PREFIX : <http://looneytunes-graph.com/>\n",
    "\n",
    "SELECT ?c (COUNT(?pt) AS ?ptCount)\n",
    "FROM <http://looneytunes-graph.com>\n",
    "WHERE {\n",
    "    ?c :personality_trait ?pt\n",
    "}\n",
    "GROUP BY ?c "
   ]
  },
  {
   "cell_type": "markdown",
   "id": "de631c4b-c647-4150-804d-1fc3f77523ec",
   "metadata": {},
   "source": [
    "### DESCRIBE query"
   ]
  },
  {
   "cell_type": "code",
   "execution_count": 68,
   "id": "6dc50913-918b-4256-8b59-ac7e5ba303a8",
   "metadata": {
    "tags": []
   },
   "outputs": [
    {
     "data": {
      "application/vnd.jupyter.widget-view+json": {
       "model_id": "cc7220db86564fe88ab3681c754c2167",
       "version_major": 2,
       "version_minor": 0
      },
      "text/plain": [
       "Tab(children=(Output(layout=Layout(max_height='600px', max_width='940px', overflow='scroll')), Force(network=<…"
      ]
     },
     "metadata": {},
     "output_type": "display_data"
    }
   ],
   "source": [
    "%%sparql\n",
    "\n",
    "# What are incoming and outgoing predicates to and from Bugs Bunny?\n",
    "PREFIX : <http://looneytunes-graph.com/>\n",
    "\n",
    "DESCRIBE :Bugs_Bunny  # Describes an entity giving you a picture of what is around it a single hop away"
   ]
  },
  {
   "cell_type": "markdown",
   "id": "f156bca2-4b55-43ff-8efd-2faa8689efed",
   "metadata": {},
   "source": [
    "### ASK query"
   ]
  },
  {
   "cell_type": "code",
   "execution_count": 71,
   "id": "b91ec15a-c7f5-43f1-88dd-bbd521cdb379",
   "metadata": {
    "tags": []
   },
   "outputs": [
    {
     "data": {
      "application/vnd.jupyter.widget-view+json": {
       "model_id": "4e5dabbf7fb34581b04d7878b4266e54",
       "version_major": 2,
       "version_minor": 0
      },
      "text/plain": [
       "Tab(children=(Output(layout=Layout(max_height='600px', max_width='940px', overflow='scroll')), Output(layout=L…"
      ]
     },
     "metadata": {},
     "output_type": "display_data"
    }
   ],
   "source": [
    "%%sparql\n",
    "\n",
    "# Is it true that Bugs Bunny was created by Tex Avery?\n",
    "PREFIX : <http://looneytunes-graph.com/>\n",
    "\n",
    "ASK {\n",
    "    :Bugs_Bunny :created_by :Tex_Avery\n",
    "}"
   ]
  },
  {
   "cell_type": "markdown",
   "id": "265ea043-6d23-48f9-a6bc-e48ac980d0e8",
   "metadata": {},
   "source": [
    "### What is CONSTRUCT code?\n",
    "A way of creating a subgraph"
   ]
  },
  {
   "cell_type": "code",
   "execution_count": 72,
   "id": "6e328228-7213-44dd-949e-b1efb66c19f1",
   "metadata": {
    "tags": []
   },
   "outputs": [
    {
     "data": {
      "application/vnd.jupyter.widget-view+json": {
       "model_id": "9704c3cbfdab4143877b5d24ca3dc804",
       "version_major": 2,
       "version_minor": 0
      },
      "text/plain": [
       "Tab(children=(Output(layout=Layout(max_height='600px', max_width='940px', overflow='scroll')), Force(network=<…"
      ]
     },
     "metadata": {},
     "output_type": "display_data"
    }
   ],
   "source": [
    "%%sparql\n",
    "\n",
    "# Return an RDF sub-graph which contains specific triple patters - persons and their brith and death dates\n",
    "PREFIX : <http://looneytunes-graph.com/>\n",
    "\n",
    "CONSTRUCT\n",
    "WHERE {\n",
    "    ?p a :Person ;\n",
    "         :born_on ?b ;\n",
    "         :died_on ?d .\n",
    "}"
   ]
  },
  {
   "cell_type": "code",
   "execution_count": 73,
   "id": "c30e5990-057d-4d60-82d5-bf35308ded71",
   "metadata": {
    "tags": []
   },
   "outputs": [
    {
     "data": {
      "application/vnd.jupyter.widget-view+json": {
       "model_id": "2c7c012cd0594ecfa8b8c51ceb78f2cb",
       "version_major": 2,
       "version_minor": 0
      },
      "text/plain": [
       "Tab(children=(Output(layout=Layout(max_height='600px', max_width='940px', overflow='scroll')), Force(network=<…"
      ]
     },
     "metadata": {},
     "output_type": "display_data"
    }
   ],
   "source": [
    "%%sparql\n",
    "\n",
    "# Return an RDF sub-graph which contains specific triple patters - persons and their average age\n",
    "PREFIX : <http://looneytunes-graph.com/>\n",
    "\n",
    "CONSTRUCT{\n",
    "    ?p :has_age ?age\n",
    "}\n",
    "WHERE {\n",
    "    ?p a :Person ;\n",
    "         :born_on ?b ;\n",
    "         :died_on ?d .\n",
    "    \n",
    "    BIND(year(?b) AS ?bYear)\n",
    "    BIND(year(?d) AS ?dYear)\n",
    "    BIND((?dYear - ?bYear) AS ?age)\n",
    "}"
   ]
  },
  {
   "cell_type": "markdown",
   "id": "b4ce7b64-efd0-4056-8a8f-1dda2555c974",
   "metadata": {},
   "source": [
    "### Property Paths\n",
    "Traverse multiple hops at scale and efficiently"
   ]
  },
  {
   "cell_type": "markdown",
   "id": "11bc9bb5-3095-4d9f-840d-e0e87aa4bf32",
   "metadata": {},
   "source": [
    "### Inverse paths"
   ]
  },
  {
   "cell_type": "code",
   "execution_count": 75,
   "id": "f610f34f-47e8-4a42-99ee-0f4e92cd3c21",
   "metadata": {
    "tags": []
   },
   "outputs": [
    {
     "data": {
      "application/vnd.jupyter.widget-view+json": {
       "model_id": "195744a0b6b146c7a403179dbcaab769",
       "version_major": 2,
       "version_minor": 0
      },
      "text/plain": [
       "Tab(children=(Output(layout=Layout(max_height='600px', max_width='940px', overflow='scroll')), Output(layout=L…"
      ]
     },
     "metadata": {},
     "output_type": "display_data"
    }
   ],
   "source": [
    "%%sparql\n",
    "\n",
    "# Inverse path\n",
    "PREFIX : <http://looneytunes-graph.com/>\n",
    "\n",
    "SELECT ?c ?p\n",
    "FROM <http://looneytunes-graph.com>\n",
    "WHERE {\n",
    "    ?p ^:created_by ?c  # The hat says to look for the inverse direction\n",
    "}"
   ]
  },
  {
   "cell_type": "code",
   "execution_count": 76,
   "id": "657e788e-759f-4dc7-a217-b68be8cb3d64",
   "metadata": {
    "tags": []
   },
   "outputs": [
    {
     "data": {
      "application/vnd.jupyter.widget-view+json": {
       "model_id": "4b2fa1e585864c108ef4fe8d3521b0a7",
       "version_major": 2,
       "version_minor": 0
      },
      "text/plain": [
       "Tab(children=(Output(layout=Layout(max_height='600px', max_width='940px', overflow='scroll')), Output(layout=L…"
      ]
     },
     "metadata": {},
     "output_type": "display_data"
    }
   ],
   "source": [
    "%%sparql\n",
    "\n",
    "# Sequence paths - list characters who are enemies of another who themselves are rivals of other characters \n",
    "# (I have not added these edges to the graph so results will be empty)\n",
    "PREFIX : <http://looneytunes-graph.com/>\n",
    "\n",
    "SELECT ?c1 ?c2\n",
    "FROM <http://looneytunes-graph.com>\n",
    "WHERE {\n",
    "    ?c1 :enemy_of/:rival_of ?c2\n",
    "}"
   ]
  },
  {
   "cell_type": "code",
   "execution_count": 77,
   "id": "78f2f97e-1662-489a-9af2-429868f10571",
   "metadata": {
    "tags": []
   },
   "outputs": [
    {
     "data": {
      "application/vnd.jupyter.widget-view+json": {
       "model_id": "ba4e6883bd1a4a798508cfe87751eac4",
       "version_major": 2,
       "version_minor": 0
      },
      "text/plain": [
       "Tab(children=(Output(layout=Layout(overflow='scroll')),), _titles={'0': 'Error'})"
      ]
     },
     "metadata": {},
     "output_type": "display_data"
    }
   ],
   "source": [
    "%%sparql\n",
    "\n",
    "# Recursive paths - who knows Taz (directly or transitively) through one or more occurrences of \"knows\"?\n",
    "# (I have not added these edges to the graph so results will be empty)\n",
    "PREFIX : <http://looneytunes-graph.com/>\n",
    "\n",
    "SELECT ?c\n",
    "FROM <http://looneytunes-graph.com>\n",
    "WHERE {\n",
    "    ?c :knows+ :Taz  # WildCard to say that anythings that is connected (arbitrary length) or + sign to say one or more hops away\n",
    "}"
   ]
  },
  {
   "cell_type": "markdown",
   "id": "8835c690-36b7-4eae-8528-2fb3a9516e29",
   "metadata": {},
   "source": [
    "### Listing possible path"
   ]
  },
  {
   "cell_type": "code",
   "execution_count": 86,
   "id": "1266cac1-6d92-44bc-831f-af742d69783c",
   "metadata": {
    "tags": []
   },
   "outputs": [
    {
     "data": {
      "application/vnd.jupyter.widget-view+json": {
       "model_id": "48e32fc7c0ec40c09e34869e88a80e2e",
       "version_major": 2,
       "version_minor": 0
      },
      "text/plain": [
       "Tab(children=(Output(layout=Layout(overflow='scroll')),), _titles={'0': 'Error'})"
      ]
     },
     "metadata": {},
     "output_type": "display_data"
    }
   ],
   "source": [
    "%%sparql\n",
    "\n",
    "# What are the possible paths I can take between two nodes (e.g. between Bugs Bunny and Daffy Duck)?\n",
    "# (I have not added these edges to the graph so results will be empty)\n",
    "\n",
    "PREFIX : <http://looneytunes-graph.com/>\n",
    "\n",
    "SELECT DISTINCT ?subject ?predicate ?object\n",
    "FROM <http://looneytunes-graph.com>\n",
    "WHERE {\n",
    "    VALUES ?start { :Sylvester }\n",
    "    VALUES ?end { :Taz }\n",
    "    \n",
    "    ?start (:|!:)* ?subject .  # (:|!:)* a predicate that exists in the graph, zero or more times (doesn't consider inverse paths)\n",
    "    ?subject ?predicate ?object . \n",
    "    ?object (:|!:)* ?end\n",
    "}"
   ]
  },
  {
   "cell_type": "markdown",
   "id": "9a7e131c-e6f2-401b-9e05-48e57e77bfcf",
   "metadata": {},
   "source": [
    "### CREATE, UPDATE and DELETE data"
   ]
  },
  {
   "cell_type": "code",
   "execution_count": 109,
   "id": "4d13dd69-17b6-4133-bcdb-8ac089c567b8",
   "metadata": {
    "tags": []
   },
   "outputs": [
    {
     "data": {
      "application/vnd.jupyter.widget-view+json": {
       "model_id": "a7d2b93f635c4ea2a41e9be6997047fc",
       "version_major": 2,
       "version_minor": 0
      },
      "text/plain": [
       "Tab(children=(Output(layout=Layout(max_height='600px', max_width='940px', overflow='scroll')), Output(layout=L…"
      ]
     },
     "metadata": {},
     "output_type": "display_data"
    }
   ],
   "source": [
    "%%sparql\n",
    "\n",
    "PREFIX xsd: <http://www.w3.org/2001/XMLSchema#>\n",
    "PREFIX rdf: <http://www.w3.org/1999/02/22-rdf-syntax-ns#>\n",
    "PREFIX : <http://looneytunes-graph.com/>\n",
    "\n",
    "\n",
    "INSERT DATA {\n",
    "    \n",
    "# Bugs Bunny\n",
    ":Bugs_Bunny a :Looney_Tunes_Character ;\n",
    "  :name \"Bugs Bunny\" ;\n",
    "  :species \"Hare\" ;\n",
    "  :gender \"Male\" ;\n",
    "  :made_debut_appearance_in :A_Wild_Hare ;\n",
    "  :created_by :Tex_Avery ;\n",
    "  :personality_trait \"Cunning\" , \"Charismatic\" , \"Smart\" ;\n",
    "  :known_for_catchphrase \"What's up, doc?\" .\n",
    "\n",
    "# A Wild Hare\n",
    ":A_Wild_Hare a :Short ;\n",
    "  :release_date \"1940-07-27\"^^xsd:date .\n",
    "\n",
    "# Tex Avery\n",
    ":Tex_Avery a :Person ;\n",
    "  :name \"Frederick Bean Avery\" ; \n",
    "  :born_on \"1908-02-26\"^^xsd:date ;\n",
    "  :died_on \"1980-08-26\"^^xsd:date .\n",
    "\n",
    "# Daffy Duck\n",
    ":Daffy_Duck a :Looney_Tunes_Character ;\n",
    "  :name \"Daffy Damas Duck\" ;\n",
    "  :species \"American Black Duck\" ;\n",
    "  :gender \"Male\" ;\n",
    "  :made_debut_appearance_in :Porkys_Duck_Hunt ;\n",
    "  :created_by :Tex_Avery ;\n",
    "  :personality_trait \"Assertive\" , \"Unrestrained\" , \"Combative\" ;\n",
    "  :known_for_catchphrase \"You're despicable!\" .\n",
    "\n",
    "# Porky's Duck Hunt\n",
    ":Porkys_Duck_Hunt a :Short ;\n",
    "  :release_date \"1937-04-17\"^^xsd:date .\n",
    "\n",
    "# Sylvester \n",
    ":Sylvester a :Looney_Tunes_Character ;\n",
    "  :name \"Sylvester James Pussycat, Sr.\" ;\n",
    "  :species \"Tuxedo Cat\" ;\n",
    "  :gender \"Male\" ;\n",
    "  :made_debut_appearance_in :Life_With_Feathers ;\n",
    "  :created_by :Friz_Freleng ;\n",
    "  :personality_trait \"Proud\" , \"Persistent\" , \"Loser\" ;\n",
    "  :known_for_catchphrase \"Sufferin' Succotash\" .\n",
    "\n",
    "# Life With Feathers\n",
    ":Life_With_Feathers a :Short ;\n",
    "  :release_date \"1945-03-24\"^^xsd:date .\n",
    "\n",
    "# Friz Frelang\n",
    ":Friz_Freleng a :Person ;\n",
    "  :name \"Isadore Freleng\" ;\n",
    "  :born_on \"1905-08-21\"^^xsd:date ;\n",
    "  :died_on \"1995-05-26\"^^xsd:date .\n",
    "\n",
    "# Taz\n",
    ":Taz a :Looney_Tunes_Character ;\n",
    "  :name \"Tasmanian Devil\" ;\n",
    "  :gender \"Male\" ;\n",
    "  :species \"Tasmanian Devil\" ;\n",
    "  :made_debut_appearance_in :Devil_May_Hare ;\n",
    "  :created_by :Robert_McKimson , :Sid_Marcus ;\n",
    "  :personality_trait \"Dim-witted\" , \"Short-tempered\" , \"Impatient\" .\n",
    "\n",
    "# Devil May Hare\n",
    ":Devil_May_Hare a :Short ;\n",
    "  :release_date \"1954-06-19\"^^xsd:date .\n",
    "\n",
    "# Robert McKimson\n",
    ":Robert_McKimson a :Person ;\n",
    "  :name \"Robert Porter McKimson, Sr.\" ;\n",
    "  :born_on \"1910-10-13\"^^xsd:date ;\n",
    "  :died_on \"1977-09-29\"^^xsd:date .\n",
    "\n",
    "# Sid Marcus\n",
    ":Sid_Marcus a :Person ;\n",
    "  :name \"Sidney Marcus\" ;\n",
    "  :born_on \"1877-10-14\"^^xsd:date ;\n",
    "  :died_on \"1979-01-31\"^^xsd:date .\n",
    "}"
   ]
  },
  {
   "cell_type": "markdown",
   "id": "46a960d8-ac69-402c-950e-130f6802564f",
   "metadata": {},
   "source": [
    "### Deleting specific triplets"
   ]
  },
  {
   "cell_type": "code",
   "execution_count": 102,
   "id": "a5e8e93b-3068-42ec-980b-1798c8e7df07",
   "metadata": {
    "tags": []
   },
   "outputs": [
    {
     "data": {
      "application/vnd.jupyter.widget-view+json": {
       "model_id": "3354802421ce433badd423ce56652950",
       "version_major": 2,
       "version_minor": 0
      },
      "text/plain": [
       "Tab(children=(Output(layout=Layout(max_height='600px', max_width='940px', overflow='scroll')), Output(layout=L…"
      ]
     },
     "metadata": {},
     "output_type": "display_data"
    }
   ],
   "source": [
    "%%sparql\n",
    "# What are the possible paths I can take between two nodes (e.g. between Bugs Bunny and Daffy Duck)?\n",
    "# (I have not added these edges to the graph so results will be empty)\n",
    "\n",
    "PREFIX : <http://looneytunes-graph.com/>\n",
    "\n",
    "DELETE DATA {\n",
    "    # Bugs Bunny\n",
    ":Bugs_Bunny a :Looney_Tunes_Character ;\n",
    "  :name \"Bugs Bunny\" ;\n",
    "  :species \"Hare\" ;\n",
    "  :gender \"Male\" ;\n",
    "  :made_debut_appearance_in :A_Wild_Hare ;\n",
    "  :created_by :Tex_Avery ;\n",
    "  :personality_trait \"Cunning\" , \"Charismatic\" , \"Smart\" ;\n",
    "  :known_for_catchphrase \"What's up, doc?\" .\n",
    "\n",
    "# A Wild Hare\n",
    ":A_Wild_Hare a :Short ;\n",
    "  :release_date \"1940-07-27\"^^xsd:date .\n",
    "\n",
    "# Tex Avery\n",
    ":Tex_Avery a :Person ;\n",
    "  :name \"Frederick Bean Avery\" ; \n",
    "  :born_on \"1908-02-26\"^^xsd:date ;\n",
    "  :died_on \"1980-08-26\"^^xsd:date .\n",
    "\n",
    "# Daffy Duck\n",
    ":Daffy_Duck a :Looney_Tunes_Character ;\n",
    "  :name \"Daffy Damas Duck\" ;\n",
    "  :species \"American Black Duck\" ;\n",
    "  :gender \"Male\" ;\n",
    "  :made_debut_appearance_in :Porkys_Duck_Hunt ;\n",
    "  :created_by :Tex_Avery ;\n",
    "  :personality_trait \"Assertive\" , \"Unrestrained\" , \"Combative\" ;\n",
    "  :known_for_catchphrase \"You're despicable!\" .\n",
    "\n",
    "# Porky's Duck Hunt\n",
    ":Porkys_Duck_Hunt a :Short ;\n",
    "  :release_date \"1937-04-17\"^^xsd:date .\n",
    "\n",
    "# Sylvester \n",
    ":Sylvester a :Looney_Tunes_Character ;\n",
    "  :name \"Sylvester James Pussycat, Sr.\" ;\n",
    "  :species \"Tuxedo Cat\" ;\n",
    "  :gender \"Male\" ;\n",
    "  :made_debut_appearance_in :Life_With_Feathers ;\n",
    "  :created_by :Friz_Freleng ;\n",
    "  :personality_trait \"Proud\" , \"Persistent\" , \"Loser\" ;\n",
    "  :known_for_catchphrase \"Sufferin' Succotash\" .\n",
    "\n",
    "# Life With Feathers\n",
    ":Life_With_Feathers a :Short ;\n",
    "  :release_date \"1945-03-24\"^^xsd:date .\n",
    "\n",
    "# Friz Frelang\n",
    ":Friz_Freleng a :Person ;\n",
    "  :name \"Isadore Freleng\" ;\n",
    "  :born_on \"1905-08-21\"^^xsd:date ;\n",
    "  :died_on \"1995-05-26\"^^xsd:date .\n",
    "\n",
    "# Taz\n",
    ":Taz a :Looney_Tunes_Character ;\n",
    "  :name \"Tasmanian Devil\" ;\n",
    "  :gender \"Male\" ;\n",
    "  :species \"Tasmanian Devil\" ;\n",
    "  :made_debut_appearance_in :Devil_May_Hare ;\n",
    "  :created_by :Robert_McKimson , :Sid_Marcus ;\n",
    "  :personality_trait \"Dim-witted\" , \"Short-tempered\" , \"Impatient\" .\n",
    "\n",
    "# Devil May Hare\n",
    ":Devil_May_Hare a :Short ;\n",
    "  :release_date \"1954-06-19\"^^xsd:date .\n",
    "\n",
    "# Robert McKimson\n",
    ":Robert_McKimson a :Person ;\n",
    "  :name \"Robert Porter McKimson, Sr.\" ;\n",
    "  :born_on \"1910-10-13\"^^xsd:date ;\n",
    "  :died_on \"1977-09-29\"^^xsd:date .\n",
    "\n",
    "# Sid Marcus\n",
    ":Sid_Marcus a :Person ;\n",
    "  :name \"Sidney Marcus\" ;\n",
    "  :born_on \"1877-10-14\"^^xsd:date ;\n",
    "  :died_on \"1979-01-31\"^^xsd:date .\n",
    "}"
   ]
  },
  {
   "cell_type": "code",
   "execution_count": 124,
   "id": "41b72508-44be-4a0b-9bfe-1bf1b99123c5",
   "metadata": {
    "tags": []
   },
   "outputs": [
    {
     "data": {
      "application/vnd.jupyter.widget-view+json": {
       "model_id": "a160d9517cd24cf3ac0d2a5c76d3cc75",
       "version_major": 2,
       "version_minor": 0
      },
      "text/plain": [
       "Tab(children=(Output(layout=Layout(max_height='600px', max_width='940px', overflow='scroll')), Output(layout=L…"
      ]
     },
     "metadata": {},
     "output_type": "display_data"
    }
   ],
   "source": [
    "%%sparql\n",
    "\n",
    "# Most basic command\n",
    "# Bring anything that meets hte pattern subject-predicate-object (From the Looney Tunes graph)\n",
    "SELECT ?s ?p ?o\n",
    "FROM <http://looneytunes-graph.com>\n",
    "WHERE {\n",
    "    ?s ?p ?o\n",
    "} LIMIT 100"
   ]
  },
  {
   "cell_type": "code",
   "execution_count": 115,
   "id": "d977b79b-14b2-448e-9492-16edc70c9258",
   "metadata": {
    "tags": []
   },
   "outputs": [
    {
     "data": {
      "application/vnd.jupyter.widget-view+json": {
       "model_id": "a0be162b77e648d1971dc288ebd56c65",
       "version_major": 2,
       "version_minor": 0
      },
      "text/plain": [
       "Tab(children=(Output(layout=Layout(overflow='scroll')),), _titles={'0': 'Error'})"
      ]
     },
     "metadata": {},
     "output_type": "display_data"
    }
   ],
   "source": [
    "%%sparql\n",
    "\n",
    "PREFIX xsd: <http://www.w3.org/2001/XMLSchema#>\n",
    "PREFIX rdf: <http://www.w3.org/1999/02/22-rdf-syntax-ns#>\n",
    "PREFIX : <http://looneytunes-graph.com/>\n",
    "\n",
    "\n",
    "INSERT {\n",
    "    ?c2 :knows ?c1\n",
    "}\n",
    "WHERE {\n",
    "    ?c1 :knows ?c2\n",
    "}"
   ]
  },
  {
   "cell_type": "code",
   "execution_count": 116,
   "id": "ed4bc0f3-56b3-434f-ae81-844ac863a5b4",
   "metadata": {
    "tags": []
   },
   "outputs": [
    {
     "data": {
      "application/vnd.jupyter.widget-view+json": {
       "model_id": "a042d03c339348d2b3e2104828d30979",
       "version_major": 2,
       "version_minor": 0
      },
      "text/plain": [
       "Tab(children=(Output(layout=Layout(max_height='600px', max_width='940px', overflow='scroll')), Output(layout=L…"
      ]
     },
     "metadata": {},
     "output_type": "display_data"
    }
   ],
   "source": [
    "%%sparql\n",
    "\n",
    "PREFIX xsd: <http://www.w3.org/2001/XMLSchema#>\n",
    "PREFIX rdf: <http://www.w3.org/1999/02/22-rdf-syntax-ns#>\n",
    "PREFIX : <http://looneytunes-graph.com/>\n",
    "\n",
    "\n",
    "DELETE WHERE {?s ?p ?o}\n"
   ]
  },
  {
   "cell_type": "markdown",
   "id": "fc7ab829-6432-4dc0-9c96-32a7eb37acfb",
   "metadata": {},
   "source": [
    "### Named graphs"
   ]
  },
  {
   "cell_type": "markdown",
   "id": "ea0e4673-87c4-4436-bbea-9858cbabfd05",
   "metadata": {},
   "source": [
    "#### Drop graph"
   ]
  },
  {
   "cell_type": "code",
   "execution_count": 123,
   "id": "3bdc1ea1-661b-4a7e-98e7-e85767fba898",
   "metadata": {
    "tags": []
   },
   "outputs": [
    {
     "data": {
      "application/vnd.jupyter.widget-view+json": {
       "model_id": "ec25ea8209cf454fabd43f862f2d3571",
       "version_major": 2,
       "version_minor": 0
      },
      "text/plain": [
       "Tab(children=(Output(layout=Layout(max_height='600px', max_width='940px', overflow='scroll')), Output(layout=L…"
      ]
     },
     "metadata": {},
     "output_type": "display_data"
    }
   ],
   "source": [
    "%%sparql\n",
    "\n",
    "DROP GRAPH <http://looneytunes-graph.com>"
   ]
  },
  {
   "cell_type": "code",
   "execution_count": 125,
   "id": "e66c7dad-3077-4288-8300-893fe26b479e",
   "metadata": {
    "tags": []
   },
   "outputs": [
    {
     "data": {
      "application/vnd.jupyter.widget-view+json": {
       "model_id": "13e4544e30f4439bba349848f42aa86e",
       "version_major": 2,
       "version_minor": 0
      },
      "text/plain": [
       "Tab(children=(Output(layout=Layout(max_height='600px', max_width='940px', overflow='scroll')), Output(layout=L…"
      ]
     },
     "metadata": {},
     "output_type": "display_data"
    }
   ],
   "source": [
    "%%sparql\n",
    "\n",
    "SELECT ?g \n",
    "WHERE {\n",
    "  GRAPH ?g { }\n",
    "}"
   ]
  },
  {
   "cell_type": "markdown",
   "id": "10e1ab68-84fd-4070-8be7-5bcf1d1ae14f",
   "metadata": {},
   "source": [
    "### Understanding the Schema or structure the graph"
   ]
  },
  {
   "cell_type": "code",
   "execution_count": 128,
   "id": "121ec252-59af-48d1-890b-425851466c74",
   "metadata": {
    "tags": []
   },
   "outputs": [
    {
     "data": {
      "application/vnd.jupyter.widget-view+json": {
       "model_id": "f886b5ef194e437db7343480e846b616",
       "version_major": 2,
       "version_minor": 0
      },
      "text/plain": [
       "Tab(children=(Output(layout=Layout(max_height='600px', max_width='940px', overflow='scroll')), Output(layout=L…"
      ]
     },
     "metadata": {},
     "output_type": "display_data"
    }
   ],
   "source": [
    "%%sparql\n",
    "\n",
    "# Understand the types int he graph\n",
    "SELECT DISTINCT ?t\n",
    "FROM <http://looneytunes-graph.com>\n",
    "WHERE {\n",
    "    ?s a ?t\n",
    "}\n",
    "GROUP BY ?t\n",
    "ORDER BY ASC(?t)"
   ]
  },
  {
   "cell_type": "code",
   "execution_count": 131,
   "id": "48959590-89ce-49d0-ab68-bbf128415d6a",
   "metadata": {
    "tags": []
   },
   "outputs": [
    {
     "data": {
      "application/vnd.jupyter.widget-view+json": {
       "model_id": "c964bea88e404197919e5f5d041c9724",
       "version_major": 2,
       "version_minor": 0
      },
      "text/plain": [
       "Tab(children=(Output(layout=Layout(max_height='600px', max_width='940px', overflow='scroll')), Output(layout=L…"
      ]
     },
     "metadata": {},
     "output_type": "display_data"
    }
   ],
   "source": [
    "%%sparql\n",
    "\n",
    "# Understand the predicates in the graph\n",
    "SELECT DISTINCT ?p\n",
    "FROM <http://looneytunes-graph.com>\n",
    "WHERE {\n",
    "    ?s ?p ?o\n",
    "}\n",
    "ORDER BY ASC(?p)"
   ]
  },
  {
   "cell_type": "code",
   "execution_count": 132,
   "id": "e0426e66-3e29-4033-b937-f553a9b0d2a0",
   "metadata": {
    "tags": []
   },
   "outputs": [
    {
     "data": {
      "application/vnd.jupyter.widget-view+json": {
       "model_id": "857470a149a6453c89f28ff95fd6cf97",
       "version_major": 2,
       "version_minor": 0
      },
      "text/plain": [
       "Tab(children=(Output(layout=Layout(max_height='600px', max_width='940px', overflow='scroll')), Output(layout=L…"
      ]
     },
     "metadata": {},
     "output_type": "display_data"
    }
   ],
   "source": [
    "%%sparql\n",
    "\n",
    "# What is the full vocabulary for the graph?\n",
    "SELECT DISTINCT ?t ?p\n",
    "FROM <http://looneytunes-graph.com>\n",
    "WHERE {\n",
    "    ?s ?p ?o ;\n",
    "        a ?t\n",
    "}\n",
    "GROUP BY ?t ?p\n",
    "ORDER BY ASC(?t) ASC(?p)"
   ]
  },
  {
   "cell_type": "markdown",
   "id": "0d36f3dc-9a6c-43e6-a063-d30afbb781e0",
   "metadata": {},
   "source": [
    "#### Distinguish literals from types"
   ]
  },
  {
   "cell_type": "code",
   "execution_count": 135,
   "id": "e3c88d1f-0c16-4f67-a9a7-a89e8e660cc3",
   "metadata": {
    "tags": []
   },
   "outputs": [
    {
     "data": {
      "application/vnd.jupyter.widget-view+json": {
       "model_id": "60b9f9b9fe0645deb18e01aa63f69b58",
       "version_major": 2,
       "version_minor": 0
      },
      "text/plain": [
       "Tab(children=(Output(layout=Layout(max_height='600px', max_width='940px', overflow='scroll')), Output(layout=L…"
      ]
     },
     "metadata": {},
     "output_type": "display_data"
    }
   ],
   "source": [
    "%%sparql\n",
    "\n",
    "# What is the full vocabulary for the graph?\n",
    "SELECT DISTINCT ?t ?p ?pType\n",
    "FROM <http://looneytunes-graph.com>\n",
    "WHERE {\n",
    "    ?s ?p ?o ;\n",
    "        a ?t\n",
    "    BIND (\n",
    "        COALESCE(\n",
    "            IF(isIRI(?o), \"Resource Predicate\", 1/0),\n",
    "            \"Literal Predicate\"\n",
    "            ) AS ?pType\n",
    "        )\n",
    "}\n",
    "GROUP BY ?t ?p ?pType\n",
    "ORDER BY ASC(?t) ASC(?p)"
   ]
  },
  {
   "cell_type": "code",
   "execution_count": null,
   "id": "91cbfb18-a739-4dd7-b6a3-08c425d446b8",
   "metadata": {},
   "outputs": [],
   "source": []
  }
 ],
 "metadata": {
  "kernelspec": {
   "display_name": "Python 3",
   "language": "python",
   "name": "python3"
  },
  "language_info": {
   "codemirror_mode": {
    "name": "ipython",
    "version": 3
   },
   "file_extension": ".py",
   "mimetype": "text/x-python",
   "name": "python",
   "nbconvert_exporter": "python",
   "pygments_lexer": "ipython3",
   "version": "3.7.12"
  }
 },
 "nbformat": 4,
 "nbformat_minor": 5
}
