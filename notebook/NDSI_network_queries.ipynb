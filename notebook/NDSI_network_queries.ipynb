{
 "cells": [
  {
   "cell_type": "markdown",
   "id": "29da1bc3-c98e-420c-8289-fc9c61f2ca69",
   "metadata": {},
   "source": [
    "# NDIS network queries"
   ]
  },
  {
   "cell_type": "markdown",
   "id": "95802531-3ed3-4c2f-a6f3-303074c0f57c",
   "metadata": {},
   "source": [
    "#### Drop graph\n",
    "Execute to have a clean start"
   ]
  },
  {
   "cell_type": "code",
   "execution_count": 42,
   "id": "ebfdc579-3f71-4545-bdc6-373be13f0d5d",
   "metadata": {
    "tags": []
   },
   "outputs": [
    {
     "data": {
      "application/vnd.jupyter.widget-view+json": {
       "model_id": "7afb14a20e0f4da6a7950fe2612e8043",
       "version_major": 2,
       "version_minor": 0
      },
      "text/plain": [
       "Tab(children=(Output(layout=Layout(max_height='600px', max_width='940px', overflow='scroll')), Output(layout=L…"
      ]
     },
     "metadata": {},
     "output_type": "display_data"
    }
   ],
   "source": [
    "%%sparql\n",
    "\n",
    "drop graph <http://ndis-network.org>"
   ]
  },
  {
   "cell_type": "markdown",
   "id": "89617d1b-bc3c-4c79-8317-fe28d93ca620",
   "metadata": {},
   "source": [
    "### Load TRIPLETSTORE.ttl"
   ]
  },
  {
   "cell_type": "code",
   "execution_count": 44,
   "id": "69135b4d-21fd-4f41-a29d-2a210abf6d76",
   "metadata": {
    "tags": []
   },
   "outputs": [
    {
     "data": {
      "application/vnd.jupyter.widget-view+json": {
       "model_id": "",
       "version_major": 2,
       "version_minor": 0
      },
      "text/plain": [
       "HBox(children=(Label(value='Source:', layout=Layout(display='flex', justify_content='flex-end', width='16%')),…"
      ]
     },
     "metadata": {},
     "output_type": "display_data"
    },
    {
     "data": {
      "application/vnd.jupyter.widget-view+json": {
       "model_id": "",
       "version_major": 2,
       "version_minor": 0
      },
      "text/plain": [
       "HBox(children=(Label(value='Format:', layout=Layout(display='flex', justify_content='flex-end', width='16%')),…"
      ]
     },
     "metadata": {},
     "output_type": "display_data"
    },
    {
     "data": {
      "application/vnd.jupyter.widget-view+json": {
       "model_id": "",
       "version_major": 2,
       "version_minor": 0
      },
      "text/plain": [
       "HBox(children=(Label(value='Region:', layout=Layout(display='flex', justify_content='flex-end', width='16%')),…"
      ]
     },
     "metadata": {},
     "output_type": "display_data"
    },
    {
     "data": {
      "application/vnd.jupyter.widget-view+json": {
       "model_id": "",
       "version_major": 2,
       "version_minor": 0
      },
      "text/plain": [
       "HBox(children=(Label(value='Load ARN:', layout=Layout(display='flex', justify_content='flex-end', width='16%')…"
      ]
     },
     "metadata": {},
     "output_type": "display_data"
    },
    {
     "data": {
      "application/vnd.jupyter.widget-view+json": {
       "model_id": "",
       "version_major": 2,
       "version_minor": 0
      },
      "text/plain": [
       "HBox(children=(Label(value='Mode:', layout=Layout(display='flex', justify_content='flex-end', width='16%')), D…"
      ]
     },
     "metadata": {},
     "output_type": "display_data"
    },
    {
     "data": {
      "application/vnd.jupyter.widget-view+json": {
       "model_id": "",
       "version_major": 2,
       "version_minor": 0
      },
      "text/plain": [
       "HBox(children=(Label(value='Fail on Error:', layout=Layout(display='flex', justify_content='flex-end', width='…"
      ]
     },
     "metadata": {},
     "output_type": "display_data"
    },
    {
     "data": {
      "application/vnd.jupyter.widget-view+json": {
       "model_id": "",
       "version_major": 2,
       "version_minor": 0
      },
      "text/plain": [
       "HBox(children=(Label(value='Parallelism:', layout=Layout(display='flex', justify_content='flex-end', width='16…"
      ]
     },
     "metadata": {},
     "output_type": "display_data"
    },
    {
     "data": {
      "application/vnd.jupyter.widget-view+json": {
       "model_id": "",
       "version_major": 2,
       "version_minor": 0
      },
      "text/plain": [
       "HBox(children=(Label(value='Update Single Cardinality:', layout=Layout(display='flex', justify_content='flex-e…"
      ]
     },
     "metadata": {},
     "output_type": "display_data"
    },
    {
     "data": {
      "application/vnd.jupyter.widget-view+json": {
       "model_id": "",
       "version_major": 2,
       "version_minor": 0
      },
      "text/plain": [
       "HBox(children=(Label(value='Queue Request:', layout=Layout(display='flex', justify_content='flex-end', width='…"
      ]
     },
     "metadata": {},
     "output_type": "display_data"
    },
    {
     "data": {
      "application/vnd.jupyter.widget-view+json": {
       "model_id": "",
       "version_major": 2,
       "version_minor": 0
      },
      "text/plain": [
       "HBox(children=(Label(value='Dependencies:', layout=Layout(display='flex', justify_content='flex-end', width='1…"
      ]
     },
     "metadata": {},
     "output_type": "display_data"
    },
    {
     "data": {
      "application/vnd.jupyter.widget-view+json": {
       "model_id": "",
       "version_major": 2,
       "version_minor": 0
      },
      "text/plain": [
       "HBox(children=(Label(value='Poll Load Status:', layout=Layout(display='flex', justify_content='flex-end', widt…"
      ]
     },
     "metadata": {},
     "output_type": "display_data"
    },
    {
     "data": {
      "application/vnd.jupyter.widget-view+json": {
       "model_id": "",
       "version_major": 2,
       "version_minor": 0
      },
      "text/plain": [
       "HBox(children=(Label(value='User Provided Edge Ids:', layout=Layout(display='none', justify_content='flex-end'…"
      ]
     },
     "metadata": {},
     "output_type": "display_data"
    },
    {
     "data": {
      "application/vnd.jupyter.widget-view+json": {
       "model_id": "",
       "version_major": 2,
       "version_minor": 0
      },
      "text/plain": [
       "HBox(children=(Label(value='Allow Empty Strings:', layout=Layout(display='none', justify_content='flex-end', w…"
      ]
     },
     "metadata": {},
     "output_type": "display_data"
    },
    {
     "data": {
      "application/vnd.jupyter.widget-view+json": {
       "model_id": "",
       "version_major": 2,
       "version_minor": 0
      },
      "text/plain": [
       "HBox(children=(Label(value='Named Graph URI:', layout=Layout(display='flex', justify_content='flex-end', width…"
      ]
     },
     "metadata": {},
     "output_type": "display_data"
    },
    {
     "data": {
      "application/vnd.jupyter.widget-view+json": {
       "model_id": "",
       "version_major": 2,
       "version_minor": 0
      },
      "text/plain": [
       "HBox(children=(Label(value='Base URI:', layout=Layout(display='flex', justify_content='flex-end', width='16%')…"
      ]
     },
     "metadata": {},
     "output_type": "display_data"
    },
    {
     "data": {
      "application/vnd.jupyter.widget-view+json": {
       "model_id": "",
       "version_major": 2,
       "version_minor": 0
      },
      "text/plain": [
       "Button(description='Submit', style=ButtonStyle())"
      ]
     },
     "metadata": {},
     "output_type": "display_data"
    },
    {
     "data": {
      "application/vnd.jupyter.widget-view+json": {
       "model_id": "0845a592d9324214bd3625778619db94",
       "version_major": 2,
       "version_minor": 0
      },
      "text/plain": [
       "Output()"
      ]
     },
     "metadata": {},
     "output_type": "display_data"
    }
   ],
   "source": [
    "%load -s s3://neptune-demo-s3workingbucket-12zo6uwzrgc4k/TRIPLETSTORE.ttl -f turtle --named-graph-uri=http://ndis-network.org"
   ]
  },
  {
   "cell_type": "markdown",
   "id": "b16c05c0-a439-433f-a6f8-57bd82394c8b",
   "metadata": {},
   "source": [
    "### Inspect top rows"
   ]
  },
  {
   "cell_type": "code",
   "execution_count": 46,
   "id": "053295a7-784b-458a-9b67-70dc3dafccb6",
   "metadata": {
    "tags": []
   },
   "outputs": [
    {
     "data": {
      "application/vnd.jupyter.widget-view+json": {
       "model_id": "cd830c3f5aff458daf593c8f16191d82",
       "version_major": 2,
       "version_minor": 0
      },
      "text/plain": [
       "Tab(children=(Output(layout=Layout(max_height='600px', max_width='940px', overflow='scroll')), Force(network=<…"
      ]
     },
     "metadata": {},
     "output_type": "display_data"
    }
   ],
   "source": [
    "%%sparql\n",
    "\n",
    "# Prefix\n",
    "PREFIX ndis: <http://ndis-network.org/>\n",
    "\n",
    "# Most basic command\n",
    "# Bring anything that meets hte pattern subject-predicate-object (From the NDIS-network graph)\n",
    "SELECT ?s ?p ?o\n",
    "FROM <http://ndis-network.org>\n",
    "WHERE {\n",
    "    #?s ndis:prvdr_nmbr \"0000001932\" .\n",
    "    ?s ?p ?o\n",
    "} LIMIT 100"
   ]
  },
  {
   "cell_type": "markdown",
   "id": "ffd05581-00d7-4170-b215-46ea6e4007d8",
   "metadata": {},
   "source": [
    "#### 1. Extract Related Network of specific PrvdrNmbr"
   ]
  },
  {
   "cell_type": "code",
   "execution_count": 66,
   "id": "5c2714a3-aaf7-4755-9ab7-d36925dcbd35",
   "metadata": {
    "tags": []
   },
   "outputs": [
    {
     "name": "stdout",
     "output_type": "stream",
     "text": [
      "{\n",
      "  \"head\": {\n",
      "    \"vars\": [\n",
      "      \"tProvider\",\n",
      "      \"r\",\n",
      "      \"nEntity\",\n",
      "      \"nType\"\n",
      "    ]\n",
      "  },\n",
      "  \"results\": {\n",
      "    \"bindings\": [\n",
      "      {\n",
      "        \"tProvider\": {\n",
      "          \"type\": \"uri\",\n",
      "          \"value\": \"http://ndis-network.org/0000004100\"\n",
      "        },\n",
      "        \"r\": {\n",
      "          \"type\": \"uri\",\n",
      "          \"value\": \"http://ndis-network.org/ServiceFor_0000004100_part_29450\"\n",
      "        },\n",
      "        \"nEntity\": {\n",
      "          \"type\": \"uri\",\n",
      "          \"value\": \"http://ndis-network.org/part_29450\"\n",
      "        },\n",
      "        \"nType\": {\n",
      "          \"type\": \"uri\",\n",
      "          \"value\": \"http://ndis-network.org/Person\"\n",
      "        }\n",
      "      },\n",
      "      {\n",
      "        \"tProvider\": {\n",
      "          \"type\": \"uri\",\n",
      "          \"value\": \"http://ndis-network.org/0000004100\"\n",
      "        },\n",
      "        \"r\": {\n",
      "          \"type\": \"uri\",\n",
      "          \"value\": \"http://ndis-network.org/ServiceFor_0000004100_part_34795\"\n",
      "        },\n",
      "        \"nEntity\": {\n",
      "          \"type\": \"uri\",\n",
      "          \"value\": \"http://ndis-network.org/part_34795\"\n",
      "        },\n",
      "        \"nType\": {\n",
      "          \"type\": \"uri\",\n",
      "          \"value\": \"http://ndis-network.org/Person\"\n",
      "        }\n",
      "      },\n",
      "      {\n",
      "        \"tProvider\": {\n",
      "          \"type\": \"uri\",\n",
      "          \"value\": \"http://ndis-network.org/0000004100\"\n",
      "        },\n",
      "        \"r\": {\n",
      "          \"type\": \"uri\",\n",
      "          \"value\": \"http://ndis-network.org/PaymentRequestFor_0000001932_0000004100\"\n",
      "        },\n",
      "        \"nEntity\": {\n",
      "          \"type\": \"uri\",\n",
      "          \"value\": \"http://ndis-network.org/0000001932\"\n",
      "        },\n",
      "        \"nType\": {\n",
      "          \"type\": \"uri\",\n",
      "          \"value\": \"http://ndis-network.org/Provider\"\n",
      "        }\n",
      "      },\n",
      "      {\n",
      "        \"tProvider\": {\n",
      "          \"type\": \"uri\",\n",
      "          \"value\": \"http://ndis-network.org/0000004100\"\n",
      "        },\n",
      "        \"r\": {\n",
      "          \"type\": \"uri\",\n",
      "          \"value\": \"http://ndis-network.org/PaymentRequestFor_0000001734_0000004100\"\n",
      "        },\n",
      "        \"nEntity\": {\n",
      "          \"type\": \"uri\",\n",
      "          \"value\": \"http://ndis-network.org/0000001734\"\n",
      "        },\n",
      "        \"nType\": {\n",
      "          \"type\": \"uri\",\n",
      "          \"value\": \"http://ndis-network.org/Provider\"\n",
      "        }\n",
      "      }\n",
      "    ]\n",
      "  }\n",
      "}\n"
     ]
    },
    {
     "data": {
      "application/vnd.jupyter.widget-view+json": {
       "model_id": "abaeaf2bb644483f8d55435b0077642c",
       "version_major": 2,
       "version_minor": 0
      },
      "text/plain": [
       "Tab(children=(Output(layout=Layout(max_height='600px', max_width='940px', overflow='scroll')), Output(layout=L…"
      ]
     },
     "metadata": {},
     "output_type": "display_data"
    },
    {
     "data": {
      "text/html": [
       "<div>\n",
       "    \n",
       "        <style>\n",
       "            #results-pre{\n",
       "                overflow: scroll;\n",
       "                font-size: 1em !important;\n",
       "                font-family: \"Courier New\", Courier, monospace !important;\n",
       "            }\n",
       "        </style>\n",
       "    \n",
       "    <pre id=\"results-pre\">Query mode                    | query\n",
       "Request execution time (ms)   | 27.22\n",
       "Status code                   | 200\n",
       "Status OK?                    | True\n",
       "# of results                  | N/A\n",
       "Response content size (bytes) | 1974\n",
       "</pre>\n",
       "</div>"
      ],
      "text/plain": [
       "<IPython.core.display.HTML object>"
      ]
     },
     "metadata": {},
     "output_type": "display_data"
    },
    {
     "data": {
      "text/html": [
       "<div class=\"table-div\">\n",
       "    <link rel=\"stylesheet\" type=\"text/css\" href=\"/static/datatables.css\">\n",
       "    <style>\n",
       "        #table-9066711e {\n",
       "            margin: 0 auto;\n",
       "        }\n",
       "\n",
       "        #table-9066711e * {\n",
       "                      font-size: 1em !important;\n",
       "                      font-family: \"Courier New\", Courier, monospace !important;\n",
       "                  }\n",
       "\n",
       "        .sorting, .sorting_asc, .sorting_desc {\n",
       "            background : none !important;\n",
       "        }\n",
       "\n",
       "        .table-div {\n",
       "            width: 100% !important;\n",
       "        }\n",
       "\n",
       "    </style>\n",
       "    <table id=\"table-9066711e\" class=\"nowrap dt-left\" style=\"table-layout: auto; width: 100%;\">\n",
       "        <thead>\n",
       "        <tr>\n",
       "            <th></th>\n",
       "            \n",
       "            <th style=\"text-align: left\">tProvider</th>\n",
       "            \n",
       "            <th style=\"text-align: left\">r</th>\n",
       "            \n",
       "            <th style=\"text-align: left\">nEntity</th>\n",
       "            \n",
       "            <th style=\"text-align: left\">nType</th>\n",
       "            \n",
       "        </tr>\n",
       "        </thead>\n",
       "        <tbody>\n",
       "        \n",
       "        <tr class=\"result-row dt-left\">\n",
       "            <td>1</td>\n",
       "            \n",
       "            <td style=\"text-align: left\">http://ndis-network.org/0000004100</td>\n",
       "            \n",
       "            <td style=\"text-align: left\">http://ndis-network.org/ServiceFor_0000004100_part_29450</td>\n",
       "            \n",
       "            <td style=\"text-align: left\">http://ndis-network.org/part_29450</td>\n",
       "            \n",
       "            <td style=\"text-align: left\">http://ndis-network.org/Person</td>\n",
       "            \n",
       "        </tr>\n",
       "        \n",
       "        <tr class=\"result-row dt-left\">\n",
       "            <td>2</td>\n",
       "            \n",
       "            <td style=\"text-align: left\">http://ndis-network.org/0000004100</td>\n",
       "            \n",
       "            <td style=\"text-align: left\">http://ndis-network.org/ServiceFor_0000004100_part_34795</td>\n",
       "            \n",
       "            <td style=\"text-align: left\">http://ndis-network.org/part_34795</td>\n",
       "            \n",
       "            <td style=\"text-align: left\">http://ndis-network.org/Person</td>\n",
       "            \n",
       "        </tr>\n",
       "        \n",
       "        <tr class=\"result-row dt-left\">\n",
       "            <td>3</td>\n",
       "            \n",
       "            <td style=\"text-align: left\">http://ndis-network.org/0000004100</td>\n",
       "            \n",
       "            <td style=\"text-align: left\">http://ndis-network.org/PaymentRequestFor_0000001932_0000004100</td>\n",
       "            \n",
       "            <td style=\"text-align: left\">http://ndis-network.org/0000001932</td>\n",
       "            \n",
       "            <td style=\"text-align: left\">http://ndis-network.org/Provider</td>\n",
       "            \n",
       "        </tr>\n",
       "        \n",
       "        <tr class=\"result-row dt-left\">\n",
       "            <td>4</td>\n",
       "            \n",
       "            <td style=\"text-align: left\">http://ndis-network.org/0000004100</td>\n",
       "            \n",
       "            <td style=\"text-align: left\">http://ndis-network.org/PaymentRequestFor_0000001734_0000004100</td>\n",
       "            \n",
       "            <td style=\"text-align: left\">http://ndis-network.org/0000001734</td>\n",
       "            \n",
       "            <td style=\"text-align: left\">http://ndis-network.org/Provider</td>\n",
       "            \n",
       "        </tr>\n",
       "        \n",
       "        </tbody>\n",
       "    </table>\n",
       "    <script type=\"text/javascript\">\n",
       "        require([\"datatables\"], function (datatables) {\n",
       "            function sort_remove_dup_ary(ary) {\n",
       "                return ary\n",
       "                    .sort(\n",
       "                        function(a, b){\n",
       "                            if (typeof a === 'string'){\n",
       "                                return -1\n",
       "                            }\n",
       "                            else if (typeof b === 'string'){\n",
       "                                return 1\n",
       "                            }\n",
       "                            else {\n",
       "                                const x = a-b;\n",
       "                                return a-b\n",
       "                            }\n",
       "                        }\n",
       "                        )\n",
       "                    .filter(function(item, pos, ary) {return !pos || item != ary[pos - 1]})\n",
       "            }\n",
       "\n",
       "            const paginationAry = sort_remove_dup_ary([10, 10, 25, 50, 100, -1]);\n",
       "            const optionsAry = sort_remove_dup_ary([10, 10, 25, 50, 100, \"All\"]);\n",
       "\n",
       "            $('#table-9066711e').DataTable({\n",
       "                scrollY: true,\n",
       "                scrollX: true,\n",
       "                columnDefs: [\n",
       "                    {targets: [0], width: \"5%\"},\n",
       "                ],\n",
       "                bAutoWidth: true,\n",
       "                \"lengthMenu\": [paginationAry, optionsAry],\n",
       "                \"pageLength\": 10\n",
       "            });\n",
       "        })\n",
       "    </script>\n",
       "</div>"
      ],
      "text/plain": [
       "<IPython.core.display.HTML object>"
      ]
     },
     "metadata": {},
     "output_type": "display_data"
    }
   ],
   "source": [
    "%%sparql\n",
    "\n",
    "# Prefix\n",
    "PREFIX ndis: <http://ndis-network.org/>\n",
    "\n",
    "\n",
    "# Most basic command\n",
    "# Bring all the neighbours (Providers and Persons) of a particular provider\n",
    "SELECT ?tProvider ?r ?nEntity ?nType\n",
    "FROM <http://ndis-network.org>\n",
    "WHERE {\n",
    "    VALUES ?tProvider { ndis:0000004100 } \n",
    "    {\n",
    "      ?tProvider ?p1 ?r .\n",
    "      ?r ?p2 ?nEntity ;\n",
    "         a ?rType .\n",
    "      ?nEntity a ?nType .\n",
    "    \n",
    "      FILTER ( ?nType = ndis:Person || ?nType = ndis:Provider)\n",
    "    }\n",
    "    UNION\n",
    "    {\n",
    "      ?nEntity ?p1 ?r ;\n",
    "               a ?nType .\n",
    "      ?r ?p2 ?tProvider ;\n",
    "         a ?rType .  \n",
    "    \n",
    "      FILTER ( ?nType = ndis:Person || ?nType = ndis:Provider)\n",
    "    }\n",
    "    \n",
    "}"
   ]
  },
  {
   "cell_type": "markdown",
   "id": "a66c11a6-3a44-461b-ad65-f48356252aff",
   "metadata": {},
   "source": [
    "#### 2. Extract Payments in Related Network"
   ]
  },
  {
   "cell_type": "code",
   "execution_count": 67,
   "id": "c5623a0b-93c7-4fe1-add1-4f9dbd59f291",
   "metadata": {},
   "outputs": [
    {
     "name": "stdout",
     "output_type": "stream",
     "text": [
      "{\n",
      "  \"head\": {\n",
      "    \"vars\": [\n",
      "      \"tProvider\",\n",
      "      \"nEntity\",\n",
      "      \"nType\",\n",
      "      \"PaymentCount\",\n",
      "      \"PaymentAmount\"\n",
      "    ]\n",
      "  },\n",
      "  \"results\": {\n",
      "    \"bindings\": [\n",
      "      {\n",
      "        \"tProvider\": {\n",
      "          \"type\": \"uri\",\n",
      "          \"value\": \"http://ndis-network.org/0000004100\"\n",
      "        },\n",
      "        \"nEntity\": {\n",
      "          \"type\": \"uri\",\n",
      "          \"value\": \"http://ndis-network.org/part_34795\"\n",
      "        },\n",
      "        \"nType\": {\n",
      "          \"type\": \"uri\",\n",
      "          \"value\": \"http://ndis-network.org/Person\"\n",
      "        },\n",
      "        \"PaymentCount\": {\n",
      "          \"datatype\": \"http://www.w3.org/2001/XMLSchema#integer\",\n",
      "          \"type\": \"literal\",\n",
      "          \"value\": \"55\"\n",
      "        },\n",
      "        \"PaymentAmount\": {\n",
      "          \"datatype\": \"http://www.w3.org/2001/XMLSchema#float\",\n",
      "          \"type\": \"literal\",\n",
      "          \"value\": \"549.57733\"\n",
      "        }\n",
      "      },\n",
      "      {\n",
      "        \"tProvider\": {\n",
      "          \"type\": \"uri\",\n",
      "          \"value\": \"http://ndis-network.org/0000004100\"\n",
      "        },\n",
      "        \"nEntity\": {\n",
      "          \"type\": \"uri\",\n",
      "          \"value\": \"http://ndis-network.org/0000001734\"\n",
      "        },\n",
      "        \"nType\": {\n",
      "          \"type\": \"uri\",\n",
      "          \"value\": \"http://ndis-network.org/Provider\"\n",
      "        },\n",
      "        \"PaymentCount\": {\n",
      "          \"datatype\": \"http://www.w3.org/2001/XMLSchema#integer\",\n",
      "          \"type\": \"literal\",\n",
      "          \"value\": \"58\"\n",
      "        },\n",
      "        \"PaymentAmount\": {\n",
      "          \"datatype\": \"http://www.w3.org/2001/XMLSchema#float\",\n",
      "          \"type\": \"literal\",\n",
      "          \"value\": \"474.42548\"\n",
      "        }\n",
      "      },\n",
      "      {\n",
      "        \"tProvider\": {\n",
      "          \"type\": \"uri\",\n",
      "          \"value\": \"http://ndis-network.org/0000004100\"\n",
      "        },\n",
      "        \"nEntity\": {\n",
      "          \"type\": \"uri\",\n",
      "          \"value\": \"http://ndis-network.org/part_29450\"\n",
      "        },\n",
      "        \"nType\": {\n",
      "          \"type\": \"uri\",\n",
      "          \"value\": \"http://ndis-network.org/Person\"\n",
      "        },\n",
      "        \"PaymentCount\": {\n",
      "          \"datatype\": \"http://www.w3.org/2001/XMLSchema#integer\",\n",
      "          \"type\": \"literal\",\n",
      "          \"value\": \"39\"\n",
      "        },\n",
      "        \"PaymentAmount\": {\n",
      "          \"datatype\": \"http://www.w3.org/2001/XMLSchema#float\",\n",
      "          \"type\": \"literal\",\n",
      "          \"value\": \"277.20175\"\n",
      "        }\n",
      "      },\n",
      "      {\n",
      "        \"tProvider\": {\n",
      "          \"type\": \"uri\",\n",
      "          \"value\": \"http://ndis-network.org/0000004100\"\n",
      "        },\n",
      "        \"nEntity\": {\n",
      "          \"type\": \"uri\",\n",
      "          \"value\": \"http://ndis-network.org/0000001932\"\n",
      "        },\n",
      "        \"nType\": {\n",
      "          \"type\": \"uri\",\n",
      "          \"value\": \"http://ndis-network.org/Provider\"\n",
      "        },\n",
      "        \"PaymentCount\": {\n",
      "          \"datatype\": \"http://www.w3.org/2001/XMLSchema#integer\",\n",
      "          \"type\": \"literal\",\n",
      "          \"value\": \"67\"\n",
      "        },\n",
      "        \"PaymentAmount\": {\n",
      "          \"datatype\": \"http://www.w3.org/2001/XMLSchema#float\",\n",
      "          \"type\": \"literal\",\n",
      "          \"value\": \"214.57056\"\n",
      "        }\n",
      "      }\n",
      "    ]\n",
      "  }\n",
      "}\n"
     ]
    },
    {
     "data": {
      "application/vnd.jupyter.widget-view+json": {
       "model_id": "c128867d87ec419a84766612d06c808c",
       "version_major": 2,
       "version_minor": 0
      },
      "text/plain": [
       "Tab(children=(Output(layout=Layout(max_height='600px', max_width='940px', overflow='scroll')), Output(layout=L…"
      ]
     },
     "metadata": {},
     "output_type": "display_data"
    },
    {
     "data": {
      "text/html": [
       "<div>\n",
       "    \n",
       "        <style>\n",
       "            #results-pre{\n",
       "                overflow: scroll;\n",
       "                font-size: 1em !important;\n",
       "                font-family: \"Courier New\", Courier, monospace !important;\n",
       "            }\n",
       "        </style>\n",
       "    \n",
       "    <pre id=\"results-pre\">Query mode                    | query\n",
       "Request execution time (ms)   | 35.47\n",
       "Status code                   | 200\n",
       "Status OK?                    | True\n",
       "# of results                  | N/A\n",
       "Response content size (bytes) | 2716\n",
       "</pre>\n",
       "</div>"
      ],
      "text/plain": [
       "<IPython.core.display.HTML object>"
      ]
     },
     "metadata": {},
     "output_type": "display_data"
    },
    {
     "data": {
      "text/html": [
       "<div class=\"table-div\">\n",
       "    <link rel=\"stylesheet\" type=\"text/css\" href=\"/static/datatables.css\">\n",
       "    <style>\n",
       "        #table-640768cc {\n",
       "            margin: 0 auto;\n",
       "        }\n",
       "\n",
       "        #table-640768cc * {\n",
       "                      font-size: 1em !important;\n",
       "                      font-family: \"Courier New\", Courier, monospace !important;\n",
       "                  }\n",
       "\n",
       "        .sorting, .sorting_asc, .sorting_desc {\n",
       "            background : none !important;\n",
       "        }\n",
       "\n",
       "        .table-div {\n",
       "            width: 100% !important;\n",
       "        }\n",
       "\n",
       "    </style>\n",
       "    <table id=\"table-640768cc\" class=\"nowrap dt-left\" style=\"table-layout: auto; width: 100%;\">\n",
       "        <thead>\n",
       "        <tr>\n",
       "            <th></th>\n",
       "            \n",
       "            <th style=\"text-align: left\">tProvider</th>\n",
       "            \n",
       "            <th style=\"text-align: left\">nEntity</th>\n",
       "            \n",
       "            <th style=\"text-align: left\">nType</th>\n",
       "            \n",
       "            <th style=\"text-align: left\">PaymentCount</th>\n",
       "            \n",
       "            <th style=\"text-align: left\">PaymentAmount</th>\n",
       "            \n",
       "        </tr>\n",
       "        </thead>\n",
       "        <tbody>\n",
       "        \n",
       "        <tr class=\"result-row dt-left\">\n",
       "            <td>1</td>\n",
       "            \n",
       "            <td style=\"text-align: left\">http://ndis-network.org/0000004100</td>\n",
       "            \n",
       "            <td style=\"text-align: left\">http://ndis-network.org/part_34795</td>\n",
       "            \n",
       "            <td style=\"text-align: left\">http://ndis-network.org/Person</td>\n",
       "            \n",
       "            <td style=\"text-align: left\">55</td>\n",
       "            \n",
       "            <td style=\"text-align: left\">549.57733</td>\n",
       "            \n",
       "        </tr>\n",
       "        \n",
       "        <tr class=\"result-row dt-left\">\n",
       "            <td>2</td>\n",
       "            \n",
       "            <td style=\"text-align: left\">http://ndis-network.org/0000004100</td>\n",
       "            \n",
       "            <td style=\"text-align: left\">http://ndis-network.org/0000001734</td>\n",
       "            \n",
       "            <td style=\"text-align: left\">http://ndis-network.org/Provider</td>\n",
       "            \n",
       "            <td style=\"text-align: left\">58</td>\n",
       "            \n",
       "            <td style=\"text-align: left\">474.42548</td>\n",
       "            \n",
       "        </tr>\n",
       "        \n",
       "        <tr class=\"result-row dt-left\">\n",
       "            <td>3</td>\n",
       "            \n",
       "            <td style=\"text-align: left\">http://ndis-network.org/0000004100</td>\n",
       "            \n",
       "            <td style=\"text-align: left\">http://ndis-network.org/part_29450</td>\n",
       "            \n",
       "            <td style=\"text-align: left\">http://ndis-network.org/Person</td>\n",
       "            \n",
       "            <td style=\"text-align: left\">39</td>\n",
       "            \n",
       "            <td style=\"text-align: left\">277.20175</td>\n",
       "            \n",
       "        </tr>\n",
       "        \n",
       "        <tr class=\"result-row dt-left\">\n",
       "            <td>4</td>\n",
       "            \n",
       "            <td style=\"text-align: left\">http://ndis-network.org/0000004100</td>\n",
       "            \n",
       "            <td style=\"text-align: left\">http://ndis-network.org/0000001932</td>\n",
       "            \n",
       "            <td style=\"text-align: left\">http://ndis-network.org/Provider</td>\n",
       "            \n",
       "            <td style=\"text-align: left\">67</td>\n",
       "            \n",
       "            <td style=\"text-align: left\">214.57056</td>\n",
       "            \n",
       "        </tr>\n",
       "        \n",
       "        </tbody>\n",
       "    </table>\n",
       "    <script type=\"text/javascript\">\n",
       "        require([\"datatables\"], function (datatables) {\n",
       "            function sort_remove_dup_ary(ary) {\n",
       "                return ary\n",
       "                    .sort(\n",
       "                        function(a, b){\n",
       "                            if (typeof a === 'string'){\n",
       "                                return -1\n",
       "                            }\n",
       "                            else if (typeof b === 'string'){\n",
       "                                return 1\n",
       "                            }\n",
       "                            else {\n",
       "                                const x = a-b;\n",
       "                                return a-b\n",
       "                            }\n",
       "                        }\n",
       "                        )\n",
       "                    .filter(function(item, pos, ary) {return !pos || item != ary[pos - 1]})\n",
       "            }\n",
       "\n",
       "            const paginationAry = sort_remove_dup_ary([10, 10, 25, 50, 100, -1]);\n",
       "            const optionsAry = sort_remove_dup_ary([10, 10, 25, 50, 100, \"All\"]);\n",
       "\n",
       "            $('#table-640768cc').DataTable({\n",
       "                scrollY: true,\n",
       "                scrollX: true,\n",
       "                columnDefs: [\n",
       "                    {targets: [0], width: \"5%\"},\n",
       "                ],\n",
       "                bAutoWidth: true,\n",
       "                \"lengthMenu\": [paginationAry, optionsAry],\n",
       "                \"pageLength\": 10\n",
       "            });\n",
       "        })\n",
       "    </script>\n",
       "</div>"
      ],
      "text/plain": [
       "<IPython.core.display.HTML object>"
      ]
     },
     "metadata": {},
     "output_type": "display_data"
    }
   ],
   "source": [
    "%%sparql\n",
    "\n",
    "# Prefix\n",
    "PREFIX ndis: <http://ndis-network.org/>\n",
    "\n",
    "\n",
    "# Most basic command\n",
    "# Bring all the neighbours (Providers and Persons) of a particular provider\n",
    "SELECT ?tProvider ?nEntity ?nType (SUM(?eCount) AS ?PaymentCount) (SUM(?pAmt) AS ?PaymentAmount)\n",
    "FROM <http://ndis-network.org>\n",
    "WHERE {\n",
    "    VALUES ?tProvider { ndis:0000004100 } \n",
    "    {\n",
    "      ?tProvider ?p1 ?r .\n",
    "      ?r ?p2 ?nEntity ;\n",
    "         a ?rType ;\n",
    "         ndis:EdgeCount ?eCount ;\n",
    "         ndis:PmtAmt ?pAmt .\n",
    "         \n",
    "      ?nEntity a ?nType .\n",
    "      \n",
    "      FILTER ( ?nType = ndis:Person || ?nType = ndis:Provider || ?rType = ndis:PaymentRequest || ?rType = ndis:ServiceFor)\n",
    "    }\n",
    "    UNION\n",
    "    {\n",
    "      ?nEntity ?p1 ?r ;\n",
    "               a ?nType .\n",
    "      ?r ?p2 ?tProvider ;\n",
    "         a ?rType ;\n",
    "         ndis:EdgeCount ?eCount ;\n",
    "         ndis:PmtAmt ?pAmt .\n",
    "    \n",
    "      FILTER ( ?nType = ndis:Person || ?nType = ndis:Provider || ?rType = ndis:PaymentRequest || ?rType = ndis:ServiceFor)\n",
    "    }   \n",
    "}\n",
    "GROUP BY ?tProvider ?nEntity ?nType\n",
    "ORDER BY DESC (?PaymentAmount)                        "
   ]
  },
  {
   "cell_type": "markdown",
   "id": "6092f18b-26ab-4782-af5c-e598af66dd29",
   "metadata": {},
   "source": [
    "#### 3. Extract Total $ Payments in related network"
   ]
  },
  {
   "cell_type": "code",
   "execution_count": 68,
   "id": "a7349bdd-ddd3-44a0-bd49-da1b6e113611",
   "metadata": {
    "tags": []
   },
   "outputs": [
    {
     "name": "stdout",
     "output_type": "stream",
     "text": [
      "{\n",
      "  \"head\": {\n",
      "    \"vars\": [\n",
      "      \"tProvider\",\n",
      "      \"PaymentCount\",\n",
      "      \"PaymentAmount\"\n",
      "    ]\n",
      "  },\n",
      "  \"results\": {\n",
      "    \"bindings\": [\n",
      "      {\n",
      "        \"tProvider\": {\n",
      "          \"type\": \"uri\",\n",
      "          \"value\": \"http://ndis-network.org/0000004100\"\n",
      "        },\n",
      "        \"PaymentCount\": {\n",
      "          \"datatype\": \"http://www.w3.org/2001/XMLSchema#integer\",\n",
      "          \"type\": \"literal\",\n",
      "          \"value\": \"219\"\n",
      "        },\n",
      "        \"PaymentAmount\": {\n",
      "          \"datatype\": \"http://www.w3.org/2001/XMLSchema#float\",\n",
      "          \"type\": \"literal\",\n",
      "          \"value\": \"1515.7751\"\n",
      "        }\n",
      "      }\n",
      "    ]\n",
      "  }\n",
      "}\n"
     ]
    },
    {
     "data": {
      "application/vnd.jupyter.widget-view+json": {
       "model_id": "7a1bd9c77bc54de9bba9fd31a1c933b2",
       "version_major": 2,
       "version_minor": 0
      },
      "text/plain": [
       "Tab(children=(Output(layout=Layout(max_height='600px', max_width='940px', overflow='scroll')), Output(layout=L…"
      ]
     },
     "metadata": {},
     "output_type": "display_data"
    },
    {
     "data": {
      "text/html": [
       "<div>\n",
       "    \n",
       "        <style>\n",
       "            #results-pre{\n",
       "                overflow: scroll;\n",
       "                font-size: 1em !important;\n",
       "                font-family: \"Courier New\", Courier, monospace !important;\n",
       "            }\n",
       "        </style>\n",
       "    \n",
       "    <pre id=\"results-pre\">Query mode                    | query\n",
       "Request execution time (ms)   | 35.44\n",
       "Status code                   | 200\n",
       "Status OK?                    | True\n",
       "# of results                  | N/A\n",
       "Response content size (bytes) | 581\n",
       "</pre>\n",
       "</div>"
      ],
      "text/plain": [
       "<IPython.core.display.HTML object>"
      ]
     },
     "metadata": {},
     "output_type": "display_data"
    },
    {
     "data": {
      "text/html": [
       "<div class=\"table-div\">\n",
       "    <link rel=\"stylesheet\" type=\"text/css\" href=\"/static/datatables.css\">\n",
       "    <style>\n",
       "        #table-2188f46c {\n",
       "            margin: 0 auto;\n",
       "        }\n",
       "\n",
       "        #table-2188f46c * {\n",
       "                      font-size: 1em !important;\n",
       "                      font-family: \"Courier New\", Courier, monospace !important;\n",
       "                  }\n",
       "\n",
       "        .sorting, .sorting_asc, .sorting_desc {\n",
       "            background : none !important;\n",
       "        }\n",
       "\n",
       "        .table-div {\n",
       "            width: 100% !important;\n",
       "        }\n",
       "\n",
       "    </style>\n",
       "    <table id=\"table-2188f46c\" class=\"nowrap dt-left\" style=\"table-layout: auto; width: 100%;\">\n",
       "        <thead>\n",
       "        <tr>\n",
       "            <th></th>\n",
       "            \n",
       "            <th style=\"text-align: left\">tProvider</th>\n",
       "            \n",
       "            <th style=\"text-align: left\">PaymentCount</th>\n",
       "            \n",
       "            <th style=\"text-align: left\">PaymentAmount</th>\n",
       "            \n",
       "        </tr>\n",
       "        </thead>\n",
       "        <tbody>\n",
       "        \n",
       "        <tr class=\"result-row dt-left\">\n",
       "            <td>1</td>\n",
       "            \n",
       "            <td style=\"text-align: left\">http://ndis-network.org/0000004100</td>\n",
       "            \n",
       "            <td style=\"text-align: left\">219</td>\n",
       "            \n",
       "            <td style=\"text-align: left\">1515.7751</td>\n",
       "            \n",
       "        </tr>\n",
       "        \n",
       "        </tbody>\n",
       "    </table>\n",
       "    <script type=\"text/javascript\">\n",
       "        require([\"datatables\"], function (datatables) {\n",
       "            function sort_remove_dup_ary(ary) {\n",
       "                return ary\n",
       "                    .sort(\n",
       "                        function(a, b){\n",
       "                            if (typeof a === 'string'){\n",
       "                                return -1\n",
       "                            }\n",
       "                            else if (typeof b === 'string'){\n",
       "                                return 1\n",
       "                            }\n",
       "                            else {\n",
       "                                const x = a-b;\n",
       "                                return a-b\n",
       "                            }\n",
       "                        }\n",
       "                        )\n",
       "                    .filter(function(item, pos, ary) {return !pos || item != ary[pos - 1]})\n",
       "            }\n",
       "\n",
       "            const paginationAry = sort_remove_dup_ary([10, 10, 25, 50, 100, -1]);\n",
       "            const optionsAry = sort_remove_dup_ary([10, 10, 25, 50, 100, \"All\"]);\n",
       "\n",
       "            $('#table-2188f46c').DataTable({\n",
       "                scrollY: true,\n",
       "                scrollX: true,\n",
       "                columnDefs: [\n",
       "                    {targets: [0], width: \"5%\"},\n",
       "                ],\n",
       "                bAutoWidth: true,\n",
       "                \"lengthMenu\": [paginationAry, optionsAry],\n",
       "                \"pageLength\": 10\n",
       "            });\n",
       "        })\n",
       "    </script>\n",
       "</div>"
      ],
      "text/plain": [
       "<IPython.core.display.HTML object>"
      ]
     },
     "metadata": {},
     "output_type": "display_data"
    }
   ],
   "source": [
    "%%sparql\n",
    "\n",
    "# Prefix\n",
    "PREFIX ndis: <http://ndis-network.org/>\n",
    "\n",
    "\n",
    "# Most basic command\n",
    "# Bring all the neighbours (Providers and Persons) of a particular provider\n",
    "SELECT ?tProvider (SUM(?eCount) AS ?PaymentCount) (SUM(?pAmt) AS ?PaymentAmount)\n",
    "FROM <http://ndis-network.org>\n",
    "WHERE {\n",
    "    VALUES ?tProvider { ndis:0000004100 } \n",
    "    {\n",
    "      ?tProvider ?p1 ?r .\n",
    "      ?r ?p2 ?nEntity ;\n",
    "         a ?rType ;\n",
    "         ndis:EdgeCount ?eCount ;\n",
    "         ndis:PmtAmt ?pAmt .\n",
    "         \n",
    "      ?nEntity a ?nType .\n",
    "      \n",
    "      FILTER ( ?nType = ndis:Person || ?nType = ndis:Provider || ?rType = ndis:PaymentRequest || ?rType = ndis:ServiceFor)\n",
    "    }\n",
    "    UNION\n",
    "    {\n",
    "      ?nEntity ?p1 ?r ;\n",
    "               a ?nType .\n",
    "      ?r ?p2 ?tProvider ;\n",
    "         a ?rType ;\n",
    "         ndis:EdgeCount ?eCount ;\n",
    "         ndis:PmtAmt ?pAmt .\n",
    "    \n",
    "      FILTER ( ?nType = ndis:Person || ?nType = ndis:Provider || ?rType = ndis:PaymentRequest || ?rType = ndis:ServiceFor)\n",
    "    }   \n",
    "}\n",
    "GROUP BY ?tProvider "
   ]
  },
  {
   "cell_type": "code",
   "execution_count": null,
   "id": "4dea50a9-03cf-4397-8297-6750e0494d6d",
   "metadata": {},
   "outputs": [],
   "source": []
  }
 ],
 "metadata": {
  "kernelspec": {
   "display_name": "Python 3",
   "language": "python",
   "name": "python3"
  },
  "language_info": {
   "codemirror_mode": {
    "name": "ipython",
    "version": 3
   },
   "file_extension": ".py",
   "mimetype": "text/x-python",
   "name": "python",
   "nbconvert_exporter": "python",
   "pygments_lexer": "ipython3",
   "version": "3.7.12"
  }
 },
 "nbformat": 4,
 "nbformat_minor": 5
}
